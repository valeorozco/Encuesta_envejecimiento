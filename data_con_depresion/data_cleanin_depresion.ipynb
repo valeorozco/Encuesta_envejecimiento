{
 "cells": [
  {
   "cell_type": "code",
   "execution_count": 1,
   "metadata": {},
   "outputs": [],
   "source": [
    "#importar librerias\n",
    "import numpy as np\n",
    "import matplotlib.pyplot as plt\n",
    "import pandas as pd \n",
    "import seaborn as sns\n"
   ]
  },
  {
   "cell_type": "code",
   "execution_count": null,
   "metadata": {},
   "outputs": [],
   "source": [
    "#La descripción de las variables puede ser encontrada en:\n",
    "#https://docs.google.com/spreadsheets/d/1seSDd6qGugEBULL_60W4h2Aicj8C3oyKDKbVfUPh2Sc/edit#gid=0"
   ]
  },
  {
   "cell_type": "code",
   "execution_count": 2,
   "metadata": {},
   "outputs": [],
   "source": [
    "#leer la base de datos\n",
    "df = pd.read_stata('../SABE.dta')"
   ]
  },
  {
   "cell_type": "code",
   "execution_count": 3,
   "metadata": {},
   "outputs": [
    {
     "name": "stdout",
     "output_type": "stream",
     "text": [
      "id\n",
      "p104\n",
      "p112\n",
      "p113_1\n",
      "p113_2\n",
      "p114_1\n",
      "p114_2\n",
      "estrato_2\n",
      "p117\n",
      "regionut\n",
      "pam\n",
      "p121\n",
      "p122edad\n",
      "p122mes\n",
      "p122anio\n",
      "p124\n",
      "p125\n",
      "p126ar\n",
      "p126mesa\n",
      "p126per\n",
      "p126rep\n",
      "p126\n",
      "p127r9\n",
      "p127r7\n",
      "p127r5\n",
      "p127r3\n",
      "p127r1\n",
      "p127\n",
      "p128tpd\n",
      "p128dm\n",
      "p128ps\n",
      "p128\n",
      "p129ar\n",
      "p129mesa\n",
      "p129per\n",
      "p129\n",
      "p130\n",
      "minmenpam\n",
      "p131\n",
      "p132\n",
      "p132a\n",
      "edadproxi\n",
      "generoproxi\n",
      "p133_p133t2_1\n",
      "p133_p133t2_2\n",
      "p133_p133t2_3\n",
      "p133_p133t2_4\n",
      "p133\n",
      "p134ar\n",
      "p134mesa\n",
      "p134per\n",
      "p134rep\n",
      "p134\n",
      "p135r9\n",
      "p135r7\n",
      "p135r5\n",
      "p135r3\n",
      "p135r1\n",
      "p135\n",
      "p136tpd\n",
      "p136dm\n",
      "p136ps\n",
      "p136\n",
      "p137ar\n",
      "p137mesa\n",
      "p137per\n",
      "p137\n",
      "p138\n",
      "minmenpro\n",
      "p139_1\n",
      "p139_2\n",
      "p139_3\n",
      "p139_4\n",
      "p139_5\n",
      "p139_6\n",
      "p139_7\n",
      "p139cual\n",
      "p139a\n",
      "p140\n",
      "p141\n",
      "p141a_1\n",
      "p141a_2\n",
      "p141a_3\n",
      "p141a_4\n",
      "p141a_5\n",
      "p141a_8\n",
      "p141a_9\n",
      "p141b_1\n",
      "p141b_2\n",
      "p141b_3\n",
      "p141b_4\n",
      "p141b_5\n",
      "p141b_6\n",
      "p141b_8\n",
      "p141b_9\n",
      "p142\n",
      "p142a\n",
      "p142b\n",
      "p142bcual\n",
      "p201\n",
      "p202\n",
      "p203\n",
      "p204\n",
      "p205\n",
      "p205si\n",
      "p205cual\n",
      "p206\n",
      "p207\n",
      "p208\n",
      "p209\n",
      "p226\n",
      "p227\n",
      "p228\n",
      "p229\n",
      "p229cual\n",
      "p230\n",
      "p230a\n",
      "p231\n",
      "p232\n",
      "p233\n",
      "p234\n",
      "p235\n",
      "p235cual\n",
      "p236\n",
      "p237_1\n",
      "p237_2\n",
      "p237_3\n",
      "p237_4\n",
      "p237_5\n",
      "p237_6\n",
      "p237_7\n",
      "p237_8\n",
      "p238\n",
      "p239_1\n",
      "p239_2\n",
      "p239_3\n",
      "p239_4\n",
      "p239_5\n",
      "p239_6\n",
      "p239_7\n",
      "p240\n",
      "p241\n",
      "p242_1\n",
      "p242_2\n",
      "p242_3\n",
      "p242_4\n",
      "p242_5\n",
      "p242_8\n",
      "p242_9\n",
      "p243\n",
      "p244\n",
      "p245_1\n",
      "p245_2\n",
      "p245_3\n",
      "p245_4\n",
      "p245_8\n",
      "p245_9\n",
      "p246_1\n",
      "p246_2\n",
      "p246_3\n",
      "p246_4\n",
      "p246_8\n",
      "p246_9\n",
      "p247_1\n",
      "p247_2\n",
      "p247_3\n",
      "p247_4\n",
      "p247_8\n",
      "p247_9\n",
      "p248_1\n",
      "p248_2\n",
      "p248_3\n",
      "p248_4\n",
      "p248_8\n",
      "p248_9\n",
      "p249_1\n",
      "p249_2\n",
      "p249_3\n",
      "p249_4\n",
      "p249_8\n",
      "p249_9\n",
      "p250_1\n",
      "p250_2\n",
      "p250_3\n",
      "p250_4\n",
      "p250_8\n",
      "p250_9\n",
      "p251_1\n",
      "p251_2\n",
      "p251_3\n",
      "p251_4\n",
      "p251_8\n",
      "p251_9\n",
      "p252_1\n",
      "p252_2\n",
      "p252_3\n",
      "p252_4\n",
      "p252_8\n",
      "p252_9\n",
      "validacion239\n",
      "hogares\n",
      "p301\n",
      "p302\n",
      "p303\n",
      "p304\n",
      "p305\n",
      "p306\n",
      "p307\n",
      "p308\n",
      "p309\n",
      "p310\n",
      "p311\n",
      "p312_1\n",
      "p312_2\n",
      "p312_3\n",
      "p312_4\n",
      "p312_5\n",
      "p312_6\n",
      "p313_1\n",
      "p313_2\n",
      "p313_3\n",
      "p313_4\n",
      "p313_5\n",
      "p313_6\n",
      "p313_7\n",
      "p313_8\n",
      "p313_9\n",
      "p313_10\n",
      "p313_11\n",
      "p313_12\n",
      "p314_1\n",
      "p314_2\n",
      "p314_3\n",
      "p314_4\n",
      "p314_5\n",
      "p314_6\n",
      "p314_7\n",
      "p314_8\n",
      "p314_9\n",
      "p314_10\n",
      "p314_11\n",
      "p314_12\n",
      "p314_13\n",
      "p314_14\n",
      "p314_15\n",
      "p314_16\n",
      "p314_17\n",
      "p314_18\n",
      "p314_88\n",
      "p315_1\n",
      "p315_2\n",
      "p315_3\n",
      "p315_4\n",
      "p315_5\n",
      "p315_6\n",
      "p315_7\n",
      "p315_8\n",
      "p315_9\n",
      "p315_10\n",
      "p315_11\n",
      "p315_12\n",
      "p315_13\n",
      "p315_14\n",
      "p315_15\n",
      "p315_16\n",
      "p315_17\n",
      "p315_88\n",
      "p316_1\n",
      "p316_2\n",
      "p316_3\n",
      "p316_4\n",
      "p316_5\n",
      "p316_6\n",
      "p316_7\n",
      "p316_88\n",
      "p317\n",
      "p318\n",
      "p319\n",
      "p320_1\n",
      "p320_2\n",
      "p320_3\n",
      "p320_4\n",
      "p320_5\n",
      "p320_6\n",
      "p320_7\n",
      "p321_1\n",
      "p321_2\n",
      "p321_3\n",
      "p321_4\n",
      "p321_5\n",
      "p321_6\n",
      "p321_7\n",
      "p321_8\n",
      "p321_9\n",
      "p321_10\n",
      "p322\n",
      "p323\n",
      "p324_1\n",
      "p324_2\n",
      "p324_3\n",
      "p324_4\n",
      "p324_5\n",
      "p324_8\n",
      "p324_9\n",
      "p325\n",
      "p326_1\n",
      "p326_2\n",
      "p326_3\n",
      "p326_4\n",
      "p327\n",
      "p328\n",
      "p329\n",
      "p330\n",
      "p331\n",
      "p332\n",
      "p333\n",
      "p334\n",
      "p401\n",
      "p402\n",
      "p403\n",
      "p404\n",
      "p405_1\n",
      "p405_2\n",
      "p405_3\n",
      "p405_4\n",
      "p405_5\n",
      "p405_6\n",
      "p405cual\n",
      "p406_1\n",
      "p406_2\n",
      "p406_3\n",
      "p406_4\n",
      "p406_5\n",
      "p406_6\n",
      "p406_77\n",
      "p406_98\n",
      "p406_99\n",
      "p406cual\n",
      "p407a_1\n",
      "p407a_2\n",
      "p407a_3\n",
      "p407a_4\n",
      "p407a_5\n",
      "p407a_6\n",
      "p407a_7\n",
      "p407a_8\n",
      "p407a_9\n",
      "p407b_1\n",
      "p407b_2\n",
      "p407b_3\n",
      "p407b_4\n",
      "p407b_5\n",
      "p407b_6\n",
      "p407b_7\n",
      "p407b_8\n",
      "p407b_9\n",
      "p408_1\n",
      "p408_2\n",
      "p408_3\n",
      "p408_4\n",
      "p408_5\n",
      "p408_6\n",
      "p408_7\n",
      "p408_8\n",
      "p408_9\n",
      "p408_10\n",
      "p409_1\n",
      "p409_2\n",
      "p409_3\n",
      "p409_4\n",
      "p409_5\n",
      "p409_6\n",
      "p409_7\n",
      "p409_8\n",
      "p409_9\n",
      "p409_10\n",
      "p409_11\n",
      "p409_12\n",
      "p410\n",
      "p411_1\n",
      "p411_2\n",
      "p412_1\n",
      "p412_2\n",
      "p412_3\n",
      "p412_4\n",
      "p412_5\n",
      "p412_6\n",
      "p412_7\n",
      "p412_8\n",
      "p412_9\n",
      "p413_1\n",
      "p413_2\n",
      "p413_3\n",
      "p413_4\n",
      "p413_5\n",
      "p413_6\n",
      "p413_7\n",
      "p413_8\n",
      "p413_9\n",
      "p414_1\n",
      "p414_2\n",
      "p414_3\n",
      "p414_4\n",
      "p414_5\n",
      "p414_6\n",
      "p415\n",
      "p416\n",
      "p417\n",
      "p418\n",
      "p418_cual\n",
      "p419\n",
      "p420\n",
      "p421\n",
      "p422\n",
      "p423a\n",
      "p423b\n",
      "p423c_1\n",
      "p423c_2\n",
      "p423c_3\n",
      "p424a\n",
      "p424b\n",
      "p424c_1\n",
      "p424c_2\n",
      "p424c_3\n",
      "p425a\n",
      "p425b\n",
      "p425c_1\n",
      "p425c_2\n",
      "p425c_3\n",
      "p426a\n",
      "p426b\n",
      "p426c_1\n",
      "p426c_2\n",
      "p426c_3\n",
      "p427a\n",
      "p427b\n",
      "p427c_1\n",
      "p427c_2\n",
      "p427c_3\n",
      "p501\n",
      "p501a\n",
      "p501b\n",
      "p502\n",
      "p503\n",
      "p504\n",
      "p505\n",
      "p506\n",
      "p507\n",
      "p508\n",
      "p509\n",
      "p510a\n",
      "p510b\n",
      "p510c\n",
      "p511\n",
      "p512\n",
      "p513a\n",
      "p513b\n",
      "p513c\n",
      "p514\n",
      "p515\n",
      "p516\n",
      "p517\n",
      "p518\n",
      "p519\n",
      "p520\n",
      "p521\n",
      "p521cual\n",
      "p601\n",
      "p602\n",
      "p603\n",
      "p604\n",
      "p605\n",
      "p606\n",
      "p607\n",
      "p608\n",
      "p609\n",
      "p610\n",
      "p611\n",
      "p612\n",
      "p613\n",
      "p614\n",
      "p615\n",
      "p616\n",
      "p617\n",
      "p618\n",
      "p619\n",
      "p620\n",
      "p621\n",
      "p622\n",
      "p623\n",
      "p624\n",
      "p625\n",
      "p626\n",
      "p627\n",
      "p628\n",
      "p629\n",
      "p701\n",
      "p702\n",
      "p703\n",
      "p704\n",
      "p705\n",
      "p706\n",
      "p707\n",
      "p708\n",
      "p709\n",
      "p710\n",
      "p711\n",
      "p712\n",
      "p713\n",
      "p714\n",
      "p715\n",
      "p716\n",
      "p717\n",
      "p718\n",
      "p719\n",
      "p720\n",
      "p721\n",
      "p801\n",
      "p802\n",
      "p803_1\n",
      "p803_2\n",
      "p803_3\n",
      "p803_4\n",
      "p803_5\n",
      "p803_6\n",
      "p803_7\n",
      "p804\n",
      "p805\n",
      "p806\n",
      "p807\n",
      "p808\n",
      "p809\n",
      "p831_1\n",
      "p831_2\n",
      "p831_3\n",
      "p831_4\n",
      "p831_5\n",
      "p831_6\n",
      "p831_7\n",
      "p831_8\n",
      "p831_9\n",
      "p832\n",
      "p833\n",
      "p834\n",
      "p838\n",
      "p839\n",
      "p840\n",
      "p841\n",
      "p842\n",
      "p843\n",
      "p844\n",
      "p845\n",
      "p846\n",
      "p847_1\n",
      "p847_2\n",
      "p847_3\n",
      "p847_4\n",
      "p847_5\n",
      "p847_6\n",
      "p847_7\n",
      "p847_8\n",
      "p847_9\n",
      "p847_10\n",
      "p847_11\n",
      "p847_12\n",
      "p847_98\n",
      "p847_99\n",
      "p848_1\n",
      "p848_2\n",
      "p848_3\n",
      "p849\n",
      "p850_1\n",
      "p850_2\n",
      "p850_3\n",
      "p850_4\n",
      "p850_5\n",
      "p850_6\n",
      "p850_7\n",
      "p850_8\n",
      "p850_9\n",
      "p850_10\n",
      "p850_98\n",
      "p850_99\n",
      "p851\n",
      "p852\n",
      "p853\n",
      "p853a\n",
      "p854\n",
      "p855_1\n",
      "p855_2\n",
      "p855_3\n",
      "p855_4\n",
      "p855_5\n",
      "p855_6\n",
      "p855_7\n",
      "p855_8\n",
      "p855_9\n",
      "p855_10\n",
      "p855_11\n",
      "p855_12\n",
      "p855_98\n",
      "p855_99\n",
      "p856\n",
      "p856a\n",
      "p857_1\n",
      "p857_2\n",
      "p857_3\n",
      "p857_4\n",
      "p857_7\n",
      "p858_1\n",
      "p858_2\n",
      "p858_3\n",
      "p858_4\n",
      "p858_7\n",
      "p859\n",
      "p860_1\n",
      "p860_2\n",
      "p860_3\n",
      "p860_4\n",
      "p860_5\n",
      "p860_6\n",
      "p860_7\n",
      "p860_8\n",
      "p860_9\n",
      "p860_77\n",
      "p860_98\n",
      "p860_99\n",
      "p860cual\n",
      "p861\n",
      "p862\n",
      "p863\n",
      "p864\n",
      "p865\n",
      "p866\n",
      "p867\n",
      "p868\n",
      "p869\n",
      "p870\n",
      "p871\n",
      "p872\n",
      "p873\n",
      "p874\n",
      "p874numero\n",
      "p875_1\n",
      "p875_2\n",
      "p875_3\n",
      "p875_8\n",
      "p875_9\n",
      "p876\n",
      "p877\n",
      "p877cuantas\n",
      "p878_1\n",
      "p878_2\n",
      "p878_3\n",
      "p878_4\n",
      "p878_8\n",
      "p878_9\n",
      "p879\n",
      "p880\n",
      "p881_1\n",
      "p881_2\n",
      "p881_3\n",
      "p881_4\n",
      "p881_5\n",
      "p881_6\n",
      "p881_7\n",
      "p881_8\n",
      "p881a\n",
      "p881b_1\n",
      "p881b_2\n",
      "p881b_3\n",
      "p881b_4\n",
      "p882_1\n",
      "p882_2\n",
      "p882_3\n",
      "p882_4\n",
      "p883_1\n",
      "p883_2\n",
      "p883_3\n",
      "p883_4\n",
      "p883_5\n",
      "p883_6\n",
      "p883_7\n",
      "p883_8\n",
      "p883_9\n",
      "p883_10\n",
      "p883_11\n",
      "p884_1\n",
      "p884_2\n",
      "p884_3\n",
      "p884_4\n",
      "p884_5\n",
      "p884_9\n",
      "p884_8\n",
      "p884cual\n",
      "p885\n",
      "p886\n",
      "p887\n",
      "p888\n",
      "p889_1\n",
      "p889_2\n",
      "p889_3\n",
      "p889_4\n",
      "p889_5\n",
      "p889_8\n",
      "p889_9\n",
      "p890_1\n",
      "p890_2\n",
      "p890_3\n",
      "p890_4\n",
      "p890_5\n",
      "p890_6\n",
      "p890_7\n",
      "p890_8\n",
      "p890_9\n",
      "p891_1\n",
      "p891_2\n",
      "p810\n",
      "p811_1\n",
      "p811_2\n",
      "p811_3\n",
      "p811_4\n",
      "p811_5\n",
      "p811_6\n",
      "p811_7\n",
      "p811_8\n",
      "p811_9\n",
      "p812\n",
      "p813_1\n",
      "p813_2\n",
      "p813_3\n",
      "p813_4\n",
      "p813_5\n",
      "p813_6\n",
      "p813_7\n",
      "p813_8\n",
      "p813_98\n",
      "p813_99\n",
      "p814\n",
      "p815a_1\n",
      "p815a_2\n",
      "p815a_3\n",
      "p815a_4\n",
      "p815a_5\n",
      "p815a_6\n",
      "p815a_7\n",
      "p815a_8\n",
      "p815a_9\n",
      "p815a_88\n",
      "p815a_98\n",
      "p815a_99\n",
      "p815acual\n",
      "p815ba\n",
      "p815bb\n",
      "p815bc\n",
      "p815bd\n",
      "p815be\n",
      "p815bf\n",
      "p815bg\n",
      "p815bh\n",
      "p815bi\n",
      "p816\n",
      "p817_1\n",
      "p817_2\n",
      "p817_3\n",
      "p817_4\n",
      "p817_5\n",
      "p817_6\n",
      "p817_7\n",
      "p817_8\n",
      "p817_9\n",
      "p818\n",
      "p819\n",
      "p820_1\n",
      "p820_2\n",
      "p820_3\n",
      "p821\n",
      "p822\n",
      "p823_1\n",
      "p823_2\n",
      "p823_3\n",
      "p823_4\n",
      "p823_5\n",
      "p823_6\n",
      "p823_7\n",
      "p823_8\n",
      "p823_9\n",
      "p824\n",
      "p825\n",
      "p826_1\n",
      "p826_2\n",
      "p826_3\n",
      "p826_4\n",
      "p826_5\n",
      "p826_6\n",
      "p826_7\n",
      "p826_8\n",
      "p826_9\n",
      "p827\n",
      "p827a1\n",
      "p827a2\n",
      "p828\n",
      "p829\n",
      "p830_1\n",
      "p830_2\n",
      "p830_3\n",
      "p830_4\n",
      "p830_5\n",
      "p830_6\n",
      "p830_7\n",
      "p830_8\n",
      "p830_9\n",
      "p830_10\n",
      "p830_11\n",
      "p830_12\n",
      "p830_13\n",
      "p830_98\n",
      "p830_99\n",
      "p830a\n",
      "p830b\n",
      "p901\n",
      "p902\n",
      "p903\n",
      "p903cuantas\n",
      "p904\n",
      "p905\n",
      "p906\n",
      "p907\n",
      "p908_1\n",
      "p908_2\n",
      "p908_3\n",
      "p908_4\n",
      "p908_5\n",
      "p908_6\n",
      "p908_7\n",
      "p909\n",
      "p910\n",
      "p911\n",
      "p912\n",
      "p913_1\n",
      "p913_2\n",
      "p913_3\n",
      "p913_4\n",
      "p913_5\n",
      "p913_9\n",
      "p913_8\n",
      "p913especifique\n",
      "p914\n",
      "p915\n",
      "p916\n",
      "p917\n",
      "p918_1\n",
      "p918_2\n",
      "p918_3\n",
      "p918_4\n",
      "p918_5\n",
      "p918_8\n",
      "p918_9\n",
      "p18cual\n",
      "p919\n",
      "p920\n",
      "p921\n",
      "p922\n",
      "p923\n",
      "p924_1\n",
      "p924_2\n",
      "p924_3\n",
      "p924_4\n",
      "p924_5\n",
      "p924_6\n",
      "p924_7\n",
      "p924_8\n",
      "p924_9\n",
      "p924_10\n",
      "p924_98\n",
      "p924_99\n",
      "p1001\n",
      "p1002\n",
      "p1003_1\n",
      "p1003_2\n",
      "p1003_3\n",
      "p1003_4\n",
      "p1003_5\n",
      "p1003_6\n",
      "p1003_7\n",
      "p1003_77\n",
      "p1004_1\n",
      "p1004_2\n",
      "p1004_3\n",
      "p1004_4\n",
      "p1004_5\n",
      "p1004_6\n",
      "p1004_7\n",
      "p1004_77\n",
      "p1005peso\n",
      "p1005peso_1\n",
      "p1005peso_2\n",
      "p1005peso_2_1\n",
      "p1006talla\n",
      "p1006talla_1\n",
      "p1007cintura\n",
      "p1007cintura_1\n",
      "p1008pantorrilla\n",
      "p1008pantorrilla_1\n",
      "p1008a\n",
      "p1009rodilla\n",
      "p1009rodilla_1\n",
      "p1009a\n",
      "p1010branquial\n",
      "p1010branquial_1\n",
      "p1010a\n",
      "p1011\n",
      "p1011a\n",
      "p1011acual\n",
      "p1012\n",
      "p1012a\n",
      "p1012acual\n",
      "p1013\n",
      "p1013a\n",
      "p1013acual\n",
      "p1014\n",
      "p1014mm\n",
      "p1014ss\n",
      "p1014ms\n",
      "p1014a\n",
      "p1014acual\n",
      "p1014b\n",
      "p1014bcual\n",
      "p1015\n",
      "p1015mm\n",
      "p1015ss\n",
      "p1015ms\n",
      "p1015a\n",
      "p1015acual\n",
      "p1015b\n",
      "p1015bcaul\n",
      "p1101\n",
      "p1101a\n",
      "p1101b\n",
      "p1102\n",
      "p1103\n",
      "p1201t1bd\n",
      "p1201t1bd_1\n",
      "p1201t1pbi\n",
      "p1201t2bd\n",
      "p1201t2bd_1\n",
      "p1201t2pbd\n",
      "p1201t3bd\n",
      "p1201t3bd_1\n",
      "p1201t3pbi\n",
      "p1201t1bi\n",
      "p1201t1bi_1\n",
      "p1201t1pbi_1\n",
      "p1201t2bi\n",
      "p1201t2bi_1\n",
      "p1201t2pbi_1\n",
      "p1201t3bi\n",
      "p1201t3bi_1\n",
      "p1201t3pbi_1\n",
      "p1201a\n",
      "p1201acual\n",
      "p1202\n",
      "p1203\n",
      "p1203a\n",
      "p1203acual\n",
      "p1204\n",
      "p1205\n",
      "p1205mm\n",
      "p1205ss\n",
      "p1205ms\n",
      "p1205time\n",
      "p1205a\n",
      "p1205acual\n",
      "p1206\n",
      "p1207_p1207t1_1\n",
      "p1207_p1207t1_2\n",
      "p1207_p1207t2_1\n",
      "p1207_p1207t2_2\n",
      "p1208\n",
      "p1209_1\n",
      "p1209_1_1\n",
      "p1209_2\n",
      "p1209_2_1\n",
      "p1210\n",
      "tension\n",
      "silla\n",
      "dinamometro\n",
      "ffinal_ajustaf\n",
      "factortm\n",
      "fecha_biomarcador\n",
      "colesterol_hdl\n",
      "colesterol_ldl\n",
      "trigliceridos\n",
      "glucosa\n",
      "colesterol_total\n",
      "hemoglobina\n",
      "iden_bio\n",
      "biomarcador\n",
      "proxy\n",
      "subsample1\n",
      "subsample2\n",
      "age\n",
      "age10yrcats\n",
      "ageSABEcats\n",
      "gender\n",
      "race\n",
      "skintone\n",
      "marstat\n",
      "region\n",
      "peso\n",
      "tallaenm\n",
      "IMC\n",
      "barthel_feeding\n",
      "barthel_bathing\n",
      "barthel_dressing\n",
      "barthel_grooming\n",
      "barthel_bowels\n",
      "barthel_bladder\n",
      "barthel_toiletuse\n",
      "barthel_transfers\n",
      "barthel_mobility\n",
      "barthel_stairs\n",
      "barthel_total\n",
      "lawton_handling_finances\n",
      "lawton_shopping\n",
      "lawton_preparingfood\n",
      "lawton_handling_medication\n",
      "lawton_transportation\n",
      "lawton_telephone\n",
      "lawton_total\n",
      "arterialhypertension\n",
      "diabetes\n",
      "cancer\n",
      "copd\n",
      "myocardial_infarction\n",
      "stroke\n",
      "osteoporosis\n",
      "arthrosis_arthritis_rheumatism\n",
      "mental_disease\n",
      "seg14\n",
      "seg15\n",
      "segfinal\n",
      "velmarch14\n",
      "velmarch15\n",
      "velmarch\n",
      "veldico\n",
      "cog_125\n",
      "cog_601\n",
      "timeorient\n",
      "cog_602\n",
      "cog_603\n",
      "cog_604\n",
      "cog_605\n",
      "cog_606\n",
      "placeorient\n",
      "orienttot\n",
      "cog_126\n",
      "cog_129\n",
      "recall\n",
      "cog_127\n",
      "counting\n",
      "cog_607\n",
      "cog_608\n",
      "cog_128\n",
      "cog_609\n",
      "cog_610\n",
      "cog_130\n",
      "language\n",
      "screentot\n",
      "total\n",
      "cogtotal\n",
      "cogcat_folstein\n",
      "cogcat_mmse\n",
      "edadcategogrip\n",
      "gsi1_r\n",
      "gsi1_l\n",
      "gsi1_max\n",
      "gsi2_r\n",
      "gsi2_l\n",
      "gsi2_max\n",
      "gsi_anymax\n"
     ]
    }
   ],
   "source": [
    "for col in df.columns:\n",
    "    print(col)"
   ]
  },
  {
   "cell_type": "code",
   "execution_count": 4,
   "metadata": {},
   "outputs": [
    {
     "data": {
      "text/plain": [
       "No mental disease    21616\n",
       "Mental disease        2013\n",
       "Name: mental_disease, dtype: int64"
      ]
     },
     "execution_count": 4,
     "metadata": {},
     "output_type": "execute_result"
    }
   ],
   "source": [
    "df['mental_disease'].value_counts()"
   ]
  },
  {
   "cell_type": "code",
   "execution_count": 5,
   "metadata": {},
   "outputs": [
    {
     "data": {
      "text/plain": [
       "0        27.0\n",
       "1        24.0\n",
       "2        23.0\n",
       "3        29.0\n",
       "4        28.0\n",
       "         ... \n",
       "23689    30.0\n",
       "23690    30.0\n",
       "23691    30.0\n",
       "23692    30.0\n",
       "23693    30.0\n",
       "Name: cogtotal, Length: 23694, dtype: float32"
      ]
     },
     "execution_count": 5,
     "metadata": {},
     "output_type": "execute_result"
    }
   ],
   "source": [
    "df['cogtotal']"
   ]
  },
  {
   "cell_type": "code",
   "execution_count": 6,
   "metadata": {},
   "outputs": [
    {
     "data": {
      "text/plain": [
       "Normal        17678\n",
       "Impaired       4717\n",
       "Borderline     1299\n",
       "Name: cogcat_folstein, dtype: int64"
      ]
     },
     "execution_count": 6,
     "metadata": {},
     "output_type": "execute_result"
    }
   ],
   "source": [
    "#Columna de rendimiento cognitivo\n",
    "df['cogcat_folstein'].value_counts()"
   ]
  },
  {
   "cell_type": "code",
   "execution_count": 7,
   "metadata": {},
   "outputs": [],
   "source": [
    "# cambiar entradas 77 por 7 - trabajo de profesional independiente\n",
    "df['p229'].replace(77, 7, inplace =True)"
   ]
  },
  {
   "cell_type": "code",
   "execution_count": 8,
   "metadata": {},
   "outputs": [],
   "source": [
    "#Cambiar valores categoricos de minimental por numéricos\n",
    "df['cogcat_folstein'].replace({'Normal':1, 'Impaired':2,'Borderline':3}, inplace=True)\n"
   ]
  },
  {
   "cell_type": "code",
   "execution_count": 9,
   "metadata": {},
   "outputs": [
    {
     "data": {
      "text/plain": [
       "1    17678\n",
       "2     4717\n",
       "3     1299\n",
       "Name: cogcat_folstein, dtype: int64"
      ]
     },
     "execution_count": 9,
     "metadata": {},
     "output_type": "execute_result"
    }
   ],
   "source": [
    "df['cogcat_folstein'].value_counts()"
   ]
  },
  {
   "cell_type": "code",
   "execution_count": 10,
   "metadata": {},
   "outputs": [],
   "source": [
    "col_to_del = ['diabetes','cancer','copd','osteoporosis','peso']\n",
    "#eliminar columnas para que no hayan duplicados\n",
    "for col in col_to_del:\n",
    "    df.drop([col], axis=1, inplace= True)"
   ]
  },
  {
   "cell_type": "code",
   "execution_count": 11,
   "metadata": {},
   "outputs": [],
   "source": [
    "#Crear columna test depresion basado en respuestas de columnas previas\n",
    "cols =['p614','p615','p616','p617','p618','p619','p620','p621','p622','p623','p624','p625']\n",
    "df['test_depresion'] = df[cols].sum(axis=1) "
   ]
  },
  {
   "cell_type": "code",
   "execution_count": 12,
   "metadata": {},
   "outputs": [
    {
     "data": {
      "text/plain": [
       "1    18144\n",
       "0     4690\n",
       "2      860\n",
       "Name: p614, dtype: int64"
      ]
     },
     "execution_count": 12,
     "metadata": {},
     "output_type": "execute_result"
    }
   ],
   "source": [
    "df['p614'].value_counts()"
   ]
  },
  {
   "cell_type": "code",
   "execution_count": 13,
   "metadata": {},
   "outputs": [
    {
     "data": {
      "image/png": "[encoded data removed]",
      "text/plain": [
       "<Figure size 432x288 with 1 Axes>"
      ]
     },
     "metadata": {
      "needs_background": "light"
     },
     "output_type": "display_data"
    }
   ],
   "source": [
    "plt.hist(df['test_depresion'])\n",
    "plt.show()"
   ]
  },
  {
   "cell_type": "code",
   "execution_count": 14,
   "metadata": {},
   "outputs": [
    {
     "data": {
      "text/plain": [
       "24"
      ]
     },
     "execution_count": 14,
     "metadata": {},
     "output_type": "execute_result"
    }
   ],
   "source": [
    "df['test_depresion'].max()"
   ]
  },
  {
   "cell_type": "code",
   "execution_count": 15,
   "metadata": {},
   "outputs": [],
   "source": [
    "def depresion(valor):\n",
    "        if valor>=19: \n",
    "            return 3 #Depresion\n",
    "        elif 10 < valor and  valor < 19:\n",
    "            return 2 #Depresion leve\n",
    "        elif  valor<=10:\n",
    "            return 1 #Sin depresion\n",
    "    "
   ]
  },
  {
   "cell_type": "code",
   "execution_count": 16,
   "metadata": {},
   "outputs": [],
   "source": [
    "df['tiene_depresion'] = df['test_depresion'].map(depresion)"
   ]
  },
  {
   "cell_type": "code",
   "execution_count": 17,
   "metadata": {},
   "outputs": [
    {
     "data": {
      "text/plain": [
       "2    15973\n",
       "1     4705\n",
       "3     3016\n",
       "Name: tiene_depresion, dtype: int64"
      ]
     },
     "execution_count": 17,
     "metadata": {},
     "output_type": "execute_result"
    }
   ],
   "source": [
    "df['tiene_depresion'].value_counts()"
   ]
  },
  {
   "cell_type": "code",
   "execution_count": 18,
   "metadata": {},
   "outputs": [],
   "source": [
    "#Creación de columna Barthel basado en respuestas a preguntas anteriores\n",
    "cols = ['p701','p702','p703','p704','p705','p706','p707','p708','p709','p710']\n",
    "df['barthel'] =  df[cols].sum(axis=1)  "
   ]
  },
  {
   "cell_type": "code",
   "execution_count": 19,
   "metadata": {},
   "outputs": [],
   "source": [
    "def nivel_dependencia(valor):\n",
    "    if valor <= 35: \n",
    "        return 4 #Dependencia grave\n",
    "    elif 60 > valor > 35:\n",
    "        return 3 #Dependencia moderada\n",
    "    elif 100 > valor >= 60:\n",
    "        return 2 #Dependencia leve\n",
    "    elif valor == 100:\n",
    "       return 1 #Independiente\n",
    "    "
   ]
  },
  {
   "cell_type": "code",
   "execution_count": 20,
   "metadata": {},
   "outputs": [],
   "source": [
    "df['nivel_dependencia']= df['barthel'].map(nivel_dependencia)"
   ]
  },
  {
   "cell_type": "code",
   "execution_count": 21,
   "metadata": {},
   "outputs": [
    {
     "data": {
      "text/plain": [
       "1    18465\n",
       "2     4794\n",
       "4      227\n",
       "3      208\n",
       "Name: nivel_dependencia, dtype: int64"
      ]
     },
     "execution_count": 21,
     "metadata": {},
     "output_type": "execute_result"
    }
   ],
   "source": [
    "df['nivel_dependencia'].value_counts()"
   ]
  },
  {
   "cell_type": "code",
   "execution_count": 22,
   "metadata": {},
   "outputs": [],
   "source": [
    "#creación columna ayuda: recibe ayuda del estado\n",
    "ayuda = df.loc[(df['p412_1'] == 1) | (df['p412_2'] == 1)| (df['p412_3'] == 1) | (df['p412_4'] == 1) | (df['p412_5'] == 1) | (df['p412_6'] == 1)].index\n",
    "ayuda_no_sabe = df.loc[df['p412_8']==1].index\n",
    "ayuda_no_responde = df.loc[df['p412_9']==1].index\n",
    "df['ayuda'] = np.zeros(23694, dtype=int)\n",
    "\n",
    "for i in ayuda_no_sabe:\n",
    "    df.at[i,'ayuda'] = 9\n",
    "    \n",
    "for i in ayuda_no_responde:\n",
    "    df.at[i,'ayuda'] = 8\n",
    "    \n",
    "for i in ayuda:\n",
    "    df.at[i,'ayuda'] = 1\n",
    "    "
   ]
  },
  {
   "cell_type": "code",
   "execution_count": 23,
   "metadata": {},
   "outputs": [
    {
     "data": {
      "text/plain": [
       "0    19429\n",
       "1     4047\n",
       "9      155\n",
       "8       63\n",
       "Name: ayuda, dtype: int64"
      ]
     },
     "execution_count": 23,
     "metadata": {},
     "output_type": "execute_result"
    }
   ],
   "source": [
    "df['ayuda'].value_counts()"
   ]
  },
  {
   "cell_type": "code",
   "execution_count": 24,
   "metadata": {},
   "outputs": [],
   "source": [
    "#Reemplazar 7 por 9- no sabe o no responde en columnas relacionadas con habitos\n",
    "cols = ['p407a_1' ,'p407a_2', 'p407a_3', 'p407a_4', 'p407a_5', 'p407a_6', 'p407a_7', 'p407a_8', 'p407a_9', 'p407b_1', 'p407b_2', 'p407b_3', 'p407b_4', 'p407b_5', 'p407b_6', 'p407b_7', 'p407b_8', 'p407b_9']\n",
    "for col in cols:\n",
    "    df[col].replace(to_replace = 7, value = 9, inplace= True)"
   ]
  },
  {
   "cell_type": "code",
   "execution_count": 25,
   "metadata": {},
   "outputs": [],
   "source": [
    "#Creación de columnas voluntario \n",
    "voluntario_no = df.loc[df['p413_7']==1].index\n",
    "voluntario_no_sabe = df.loc[df['p413_9']==1].index\n",
    "voluntario_no_resp = df.loc[df['p413_8']==1].index\n",
    "df['voluntario'] = np.ones(23694, dtype=int)\n",
    "\n",
    "\n",
    "\n",
    "for i in voluntario_no_sabe:\n",
    "    df.at[i,'voluntario'] = 9\n",
    "    \n",
    "for i in voluntario_no_resp:\n",
    "    df.at[i,'voluntario'] = 8\n",
    "    \n",
    "for i in voluntario_no:\n",
    "    df.at[i,'voluntario'] = 0\n"
   ]
  },
  {
   "cell_type": "code",
   "execution_count": 26,
   "metadata": {},
   "outputs": [
    {
     "data": {
      "text/plain": [
       "0    20153\n",
       "1     3387\n",
       "8      121\n",
       "9       33\n",
       "Name: voluntario, dtype: int64"
      ]
     },
     "execution_count": 26,
     "metadata": {},
     "output_type": "execute_result"
    }
   ],
   "source": [
    "df['voluntario'].value_counts()"
   ]
  },
  {
   "cell_type": "code",
   "execution_count": 27,
   "metadata": {},
   "outputs": [],
   "source": [
    "df.rename(columns={'p104':'area_vivienda','estrato_2':'estrato','p121':'sexo','p122edad':'edad', 'p124':'estado_civil','p139a':'num_personas_hogar','p140':'afiliacion_pension','skintone':'color_piel', 'p301':'tipo_vivienda','p141':'afiliacion_salud','p142a':'grupo_etnico','p142b':'raza','p201':'sabe_leer','p202':'sabe_escribir','p203':'a_educacion','p204':'nivel_educativo','p226':'ha_trabajado','p228':'edad_primer_trabajo','p229':'tipo_de_trabajo','p240':'ingresos','p243':'suficiencia_recursos','p244':'satisfaccion_ingresos','p309':'habitacion_unica','p317':'utiliza_computador','p318':'utiliza_internet','p327':'fuente_de_agua','p302':'posesion_vivienda','p332':'medio_transporte','p401':'religion','p404':'sentirse_viejo','p407a_1':'lee_libros','p407a_2':'escribe','p407a_3':'resuelve_matematica','p407a_4':'pasatiempos','p407a_5':'escuchar_radio','p407a_6':'ver_television','p407a_7':'juegos_de_mesa','p407a_8':'manualidades','p407a_9':'hablar_con_familiares','p407b_1':'visitar_familiares','p407b_2':'actividad_fisica','p407b_3':'navegar_internet','p407b_4':'asistir_cursos','p407b_5':'hobbies','p407b_6':'compras','p407b_7':'bibliotecas_museos','p407b_8':'eventos_cult_dep','p407b_9':'viajar','p411_1':'beneficiario_alimentacion','p411_2':'beneficiario_col_mayor','p419':'desplazado', 'p501': 'alimentacion','p502':'comidas_al_dia','p503':'lacteos','p504':'granos','p505':'carne','p506':'frutas_verduras','p509':'consumo_alcohol','p511':'consumo_cigarrillo','p516':'sexualidad','p611':'mem_subjetiva','p612':'problemas_memoria','p613':'comparacion_memoria','p719':'ejercicio','p720':'caminar','p801':'economia_familiar','p802':'salud_adolescencia','p805':'hambre_adolescencia','p806':'violencia_adolescencia','p807':'percepcion_salud','p810':'hipertension','p812':'diabetes','p814':'cancer','p816':'asma','p818':'enfermedad_cardiaca','p821':'derrame_cerebral','p824':'artrosis','p827':'osteoporosis','p828':'enfermedad_mental','p845':'vision','p853':'problemas_auditivos','p881a':'rechazo_infancia','p883_3':'abuso_gritos','p883_4':'abuso_maltrato_fisico','p883_5':'abuso_agresion','p883_7':'abandono','p883_11':'abuso_economico','p903':'salud_30_dias','p919':'hospitalizacion','1001':'amputacion','p1005peso':'peso','p1006talla':'talla','p1007cintura':'circunferencia_cintura','p242_1':'dependencia_economica','p231':'trabajo_actual', 'p409_12':'participa_grupos','cogtotal':'minimental'},inplace=True)"
   ]
  },
  {
   "cell_type": "code",
   "execution_count": 28,
   "metadata": {},
   "outputs": [
    {
     "ename": "KeyboardInterrupt",
     "evalue": "",
     "output_type": "error",
     "traceback": [
      "\u001b[1;31m---------------------------------------------------------------------------\u001b[0m",
      "\u001b[1;31mKeyboardInterrupt\u001b[0m                         Traceback (most recent call last)",
      "\u001b[1;32m~\\AppData\\Local\\Temp/ipykernel_3116/629448767.py\u001b[0m in \u001b[0;36m<module>\u001b[1;34m\u001b[0m\n\u001b[0;32m      3\u001b[0m \u001b[1;32mfor\u001b[0m \u001b[0mcol\u001b[0m \u001b[1;32min\u001b[0m \u001b[0mdf\u001b[0m\u001b[1;33m.\u001b[0m\u001b[0mcolumns\u001b[0m\u001b[1;33m:\u001b[0m\u001b[1;33m\u001b[0m\u001b[1;33m\u001b[0m\u001b[0m\n\u001b[0;32m      4\u001b[0m     \u001b[1;32mif\u001b[0m \u001b[0mcol\u001b[0m \u001b[1;32mnot\u001b[0m \u001b[1;32min\u001b[0m \u001b[0mcols\u001b[0m\u001b[1;33m:\u001b[0m\u001b[1;33m\u001b[0m\u001b[1;33m\u001b[0m\u001b[0m\n\u001b[1;32m----> 5\u001b[1;33m        \u001b[0mdf\u001b[0m\u001b[1;33m.\u001b[0m\u001b[0mdrop\u001b[0m\u001b[1;33m(\u001b[0m\u001b[0mcol\u001b[0m\u001b[1;33m,\u001b[0m \u001b[0maxis\u001b[0m\u001b[1;33m=\u001b[0m\u001b[1;36m1\u001b[0m\u001b[1;33m,\u001b[0m \u001b[0minplace\u001b[0m\u001b[1;33m=\u001b[0m\u001b[1;32mTrue\u001b[0m\u001b[1;33m)\u001b[0m\u001b[1;33m\u001b[0m\u001b[1;33m\u001b[0m\u001b[0m\n\u001b[0m",
      "\u001b[1;32mc:\\Users\\vaorc\\anaconda3\\lib\\site-packages\\pandas\\util\\_decorators.py\u001b[0m in \u001b[0;36mwrapper\u001b[1;34m(*args, **kwargs)\u001b[0m\n\u001b[0;32m    309\u001b[0m                     \u001b[0mstacklevel\u001b[0m\u001b[1;33m=\u001b[0m\u001b[0mstacklevel\u001b[0m\u001b[1;33m,\u001b[0m\u001b[1;33m\u001b[0m\u001b[1;33m\u001b[0m\u001b[0m\n\u001b[0;32m    310\u001b[0m                 )\n\u001b[1;32m--> 311\u001b[1;33m             \u001b[1;32mreturn\u001b[0m \u001b[0mfunc\u001b[0m\u001b[1;33m(\u001b[0m\u001b[1;33m*\u001b[0m\u001b[0margs\u001b[0m\u001b[1;33m,\u001b[0m \u001b[1;33m**\u001b[0m\u001b[0mkwargs\u001b[0m\u001b[1;33m)\u001b[0m\u001b[1;33m\u001b[0m\u001b[1;33m\u001b[0m\u001b[0m\n\u001b[0m\u001b[0;32m    312\u001b[0m \u001b[1;33m\u001b[0m\u001b[0m\n\u001b[0;32m    313\u001b[0m         \u001b[1;32mreturn\u001b[0m \u001b[0mwrapper\u001b[0m\u001b[1;33m\u001b[0m\u001b[1;33m\u001b[0m\u001b[0m\n",
      "\u001b[1;32mc:\\Users\\vaorc\\anaconda3\\lib\\site-packages\\pandas\\core\\frame.py\u001b[0m in \u001b[0;36mdrop\u001b[1;34m(self, labels, axis, index, columns, level, inplace, errors)\u001b[0m\n\u001b[0;32m   4904\u001b[0m                 \u001b[0mweight\u001b[0m  \u001b[1;36m1.0\u001b[0m     \u001b[1;36m0.8\u001b[0m\u001b[1;33m\u001b[0m\u001b[1;33m\u001b[0m\u001b[0m\n\u001b[0;32m   4905\u001b[0m         \"\"\"\n\u001b[1;32m-> 4906\u001b[1;33m         return super().drop(\n\u001b[0m\u001b[0;32m   4907\u001b[0m             \u001b[0mlabels\u001b[0m\u001b[1;33m=\u001b[0m\u001b[0mlabels\u001b[0m\u001b[1;33m,\u001b[0m\u001b[1;33m\u001b[0m\u001b[1;33m\u001b[0m\u001b[0m\n\u001b[0;32m   4908\u001b[0m             \u001b[0maxis\u001b[0m\u001b[1;33m=\u001b[0m\u001b[0maxis\u001b[0m\u001b[1;33m,\u001b[0m\u001b[1;33m\u001b[0m\u001b[1;33m\u001b[0m\u001b[0m\n",
      "\u001b[1;32mc:\\Users\\vaorc\\anaconda3\\lib\\site-packages\\pandas\\core\\generic.py\u001b[0m in \u001b[0;36mdrop\u001b[1;34m(self, labels, axis, index, columns, level, inplace, errors)\u001b[0m\n\u001b[0;32m   4148\u001b[0m         \u001b[1;32mfor\u001b[0m \u001b[0maxis\u001b[0m\u001b[1;33m,\u001b[0m \u001b[0mlabels\u001b[0m \u001b[1;32min\u001b[0m \u001b[0maxes\u001b[0m\u001b[1;33m.\u001b[0m\u001b[0mitems\u001b[0m\u001b[1;33m(\u001b[0m\u001b[1;33m)\u001b[0m\u001b[1;33m:\u001b[0m\u001b[1;33m\u001b[0m\u001b[1;33m\u001b[0m\u001b[0m\n\u001b[0;32m   4149\u001b[0m             \u001b[1;32mif\u001b[0m \u001b[0mlabels\u001b[0m \u001b[1;32mis\u001b[0m \u001b[1;32mnot\u001b[0m \u001b[1;32mNone\u001b[0m\u001b[1;33m:\u001b[0m\u001b[1;33m\u001b[0m\u001b[1;33m\u001b[0m\u001b[0m\n\u001b[1;32m-> 4150\u001b[1;33m                 \u001b[0mobj\u001b[0m \u001b[1;33m=\u001b[0m \u001b[0mobj\u001b[0m\u001b[1;33m.\u001b[0m\u001b[0m_drop_axis\u001b[0m\u001b[1;33m(\u001b[0m\u001b[0mlabels\u001b[0m\u001b[1;33m,\u001b[0m \u001b[0maxis\u001b[0m\u001b[1;33m,\u001b[0m \u001b[0mlevel\u001b[0m\u001b[1;33m=\u001b[0m\u001b[0mlevel\u001b[0m\u001b[1;33m,\u001b[0m \u001b[0merrors\u001b[0m\u001b[1;33m=\u001b[0m\u001b[0merrors\u001b[0m\u001b[1;33m)\u001b[0m\u001b[1;33m\u001b[0m\u001b[1;33m\u001b[0m\u001b[0m\n\u001b[0m\u001b[0;32m   4151\u001b[0m \u001b[1;33m\u001b[0m\u001b[0m\n\u001b[0;32m   4152\u001b[0m         \u001b[1;32mif\u001b[0m \u001b[0minplace\u001b[0m\u001b[1;33m:\u001b[0m\u001b[1;33m\u001b[0m\u001b[1;33m\u001b[0m\u001b[0m\n",
      "\u001b[1;32mc:\\Users\\vaorc\\anaconda3\\lib\\site-packages\\pandas\\core\\generic.py\u001b[0m in \u001b[0;36m_drop_axis\u001b[1;34m(self, labels, axis, level, errors)\u001b[0m\n\u001b[0;32m   4184\u001b[0m             \u001b[1;32melse\u001b[0m\u001b[1;33m:\u001b[0m\u001b[1;33m\u001b[0m\u001b[1;33m\u001b[0m\u001b[0m\n\u001b[0;32m   4185\u001b[0m                 \u001b[0mnew_axis\u001b[0m \u001b[1;33m=\u001b[0m \u001b[0maxis\u001b[0m\u001b[1;33m.\u001b[0m\u001b[0mdrop\u001b[0m\u001b[1;33m(\u001b[0m\u001b[0mlabels\u001b[0m\u001b[1;33m,\u001b[0m \u001b[0merrors\u001b[0m\u001b[1;33m=\u001b[0m\u001b[0merrors\u001b[0m\u001b[1;33m)\u001b[0m\u001b[1;33m\u001b[0m\u001b[1;33m\u001b[0m\u001b[0m\n\u001b[1;32m-> 4186\u001b[1;33m             \u001b[0mresult\u001b[0m \u001b[1;33m=\u001b[0m \u001b[0mself\u001b[0m\u001b[1;33m.\u001b[0m\u001b[0mreindex\u001b[0m\u001b[1;33m(\u001b[0m\u001b[1;33m**\u001b[0m\u001b[1;33m{\u001b[0m\u001b[0maxis_name\u001b[0m\u001b[1;33m:\u001b[0m \u001b[0mnew_axis\u001b[0m\u001b[1;33m}\u001b[0m\u001b[1;33m)\u001b[0m\u001b[1;33m\u001b[0m\u001b[1;33m\u001b[0m\u001b[0m\n\u001b[0m\u001b[0;32m   4187\u001b[0m \u001b[1;33m\u001b[0m\u001b[0m\n\u001b[0;32m   4188\u001b[0m         \u001b[1;31m# Case for non-unique axis\u001b[0m\u001b[1;33m\u001b[0m\u001b[1;33m\u001b[0m\u001b[0m\n",
      "\u001b[1;32mc:\\Users\\vaorc\\anaconda3\\lib\\site-packages\\pandas\\util\\_decorators.py\u001b[0m in \u001b[0;36mwrapper\u001b[1;34m(*args, **kwargs)\u001b[0m\n\u001b[0;32m    322\u001b[0m         \u001b[1;33m@\u001b[0m\u001b[0mwraps\u001b[0m\u001b[1;33m(\u001b[0m\u001b[0mfunc\u001b[0m\u001b[1;33m)\u001b[0m\u001b[1;33m\u001b[0m\u001b[1;33m\u001b[0m\u001b[0m\n\u001b[0;32m    323\u001b[0m         \u001b[1;32mdef\u001b[0m \u001b[0mwrapper\u001b[0m\u001b[1;33m(\u001b[0m\u001b[1;33m*\u001b[0m\u001b[0margs\u001b[0m\u001b[1;33m,\u001b[0m \u001b[1;33m**\u001b[0m\u001b[0mkwargs\u001b[0m\u001b[1;33m)\u001b[0m \u001b[1;33m->\u001b[0m \u001b[0mCallable\u001b[0m\u001b[1;33m[\u001b[0m\u001b[1;33m...\u001b[0m\u001b[1;33m,\u001b[0m \u001b[0mAny\u001b[0m\u001b[1;33m]\u001b[0m\u001b[1;33m:\u001b[0m\u001b[1;33m\u001b[0m\u001b[1;33m\u001b[0m\u001b[0m\n\u001b[1;32m--> 324\u001b[1;33m             \u001b[1;32mreturn\u001b[0m \u001b[0mfunc\u001b[0m\u001b[1;33m(\u001b[0m\u001b[1;33m*\u001b[0m\u001b[0margs\u001b[0m\u001b[1;33m,\u001b[0m \u001b[1;33m**\u001b[0m\u001b[0mkwargs\u001b[0m\u001b[1;33m)\u001b[0m\u001b[1;33m\u001b[0m\u001b[1;33m\u001b[0m\u001b[0m\n\u001b[0m\u001b[0;32m    325\u001b[0m \u001b[1;33m\u001b[0m\u001b[0m\n\u001b[0;32m    326\u001b[0m         \u001b[0mkind\u001b[0m \u001b[1;33m=\u001b[0m \u001b[0minspect\u001b[0m\u001b[1;33m.\u001b[0m\u001b[0mParameter\u001b[0m\u001b[1;33m.\u001b[0m\u001b[0mPOSITIONAL_OR_KEYWORD\u001b[0m\u001b[1;33m\u001b[0m\u001b[1;33m\u001b[0m\u001b[0m\n",
      "\u001b[1;32mc:\\Users\\vaorc\\anaconda3\\lib\\site-packages\\pandas\\core\\frame.py\u001b[0m in \u001b[0;36mreindex\u001b[1;34m(self, *args, **kwargs)\u001b[0m\n\u001b[0;32m   4770\u001b[0m         \u001b[0mkwargs\u001b[0m\u001b[1;33m.\u001b[0m\u001b[0mpop\u001b[0m\u001b[1;33m(\u001b[0m\u001b[1;34m\"axis\"\u001b[0m\u001b[1;33m,\u001b[0m \u001b[1;32mNone\u001b[0m\u001b[1;33m)\u001b[0m\u001b[1;33m\u001b[0m\u001b[1;33m\u001b[0m\u001b[0m\n\u001b[0;32m   4771\u001b[0m         \u001b[0mkwargs\u001b[0m\u001b[1;33m.\u001b[0m\u001b[0mpop\u001b[0m\u001b[1;33m(\u001b[0m\u001b[1;34m\"labels\"\u001b[0m\u001b[1;33m,\u001b[0m \u001b[1;32mNone\u001b[0m\u001b[1;33m)\u001b[0m\u001b[1;33m\u001b[0m\u001b[1;33m\u001b[0m\u001b[0m\n\u001b[1;32m-> 4772\u001b[1;33m         \u001b[1;32mreturn\u001b[0m \u001b[0msuper\u001b[0m\u001b[1;33m(\u001b[0m\u001b[1;33m)\u001b[0m\u001b[1;33m.\u001b[0m\u001b[0mreindex\u001b[0m\u001b[1;33m(\u001b[0m\u001b[1;33m**\u001b[0m\u001b[0mkwargs\u001b[0m\u001b[1;33m)\u001b[0m\u001b[1;33m\u001b[0m\u001b[1;33m\u001b[0m\u001b[0m\n\u001b[0m\u001b[0;32m   4773\u001b[0m \u001b[1;33m\u001b[0m\u001b[0m\n\u001b[0;32m   4774\u001b[0m     \u001b[1;33m@\u001b[0m\u001b[0mdeprecate_nonkeyword_arguments\u001b[0m\u001b[1;33m(\u001b[0m\u001b[0mversion\u001b[0m\u001b[1;33m=\u001b[0m\u001b[1;32mNone\u001b[0m\u001b[1;33m,\u001b[0m \u001b[0mallowed_args\u001b[0m\u001b[1;33m=\u001b[0m\u001b[1;33m[\u001b[0m\u001b[1;34m\"self\"\u001b[0m\u001b[1;33m,\u001b[0m \u001b[1;34m\"labels\"\u001b[0m\u001b[1;33m]\u001b[0m\u001b[1;33m)\u001b[0m\u001b[1;33m\u001b[0m\u001b[1;33m\u001b[0m\u001b[0m\n",
      "\u001b[1;32mc:\\Users\\vaorc\\anaconda3\\lib\\site-packages\\pandas\\core\\generic.py\u001b[0m in \u001b[0;36mreindex\u001b[1;34m(self, *args, **kwargs)\u001b[0m\n\u001b[0;32m   4816\u001b[0m \u001b[1;33m\u001b[0m\u001b[0m\n\u001b[0;32m   4817\u001b[0m         \u001b[1;31m# perform the reindex on the axes\u001b[0m\u001b[1;33m\u001b[0m\u001b[1;33m\u001b[0m\u001b[0m\n\u001b[1;32m-> 4818\u001b[1;33m         return self._reindex_axes(\n\u001b[0m\u001b[0;32m   4819\u001b[0m             \u001b[0maxes\u001b[0m\u001b[1;33m,\u001b[0m \u001b[0mlevel\u001b[0m\u001b[1;33m,\u001b[0m \u001b[0mlimit\u001b[0m\u001b[1;33m,\u001b[0m \u001b[0mtolerance\u001b[0m\u001b[1;33m,\u001b[0m \u001b[0mmethod\u001b[0m\u001b[1;33m,\u001b[0m \u001b[0mfill_value\u001b[0m\u001b[1;33m,\u001b[0m \u001b[0mcopy\u001b[0m\u001b[1;33m\u001b[0m\u001b[1;33m\u001b[0m\u001b[0m\n\u001b[0;32m   4820\u001b[0m         ).__finalize__(self, method=\"reindex\")\n",
      "\u001b[1;32mc:\\Users\\vaorc\\anaconda3\\lib\\site-packages\\pandas\\core\\frame.py\u001b[0m in \u001b[0;36m_reindex_axes\u001b[1;34m(self, axes, level, limit, tolerance, method, fill_value, copy)\u001b[0m\n\u001b[0;32m   4589\u001b[0m         \u001b[0mcolumns\u001b[0m \u001b[1;33m=\u001b[0m \u001b[0maxes\u001b[0m\u001b[1;33m[\u001b[0m\u001b[1;34m\"columns\"\u001b[0m\u001b[1;33m]\u001b[0m\u001b[1;33m\u001b[0m\u001b[1;33m\u001b[0m\u001b[0m\n\u001b[0;32m   4590\u001b[0m         \u001b[1;32mif\u001b[0m \u001b[0mcolumns\u001b[0m \u001b[1;32mis\u001b[0m \u001b[1;32mnot\u001b[0m \u001b[1;32mNone\u001b[0m\u001b[1;33m:\u001b[0m\u001b[1;33m\u001b[0m\u001b[1;33m\u001b[0m\u001b[0m\n\u001b[1;32m-> 4591\u001b[1;33m             frame = frame._reindex_columns(\n\u001b[0m\u001b[0;32m   4592\u001b[0m                 \u001b[0mcolumns\u001b[0m\u001b[1;33m,\u001b[0m \u001b[0mmethod\u001b[0m\u001b[1;33m,\u001b[0m \u001b[0mcopy\u001b[0m\u001b[1;33m,\u001b[0m \u001b[0mlevel\u001b[0m\u001b[1;33m,\u001b[0m \u001b[0mfill_value\u001b[0m\u001b[1;33m,\u001b[0m \u001b[0mlimit\u001b[0m\u001b[1;33m,\u001b[0m \u001b[0mtolerance\u001b[0m\u001b[1;33m\u001b[0m\u001b[1;33m\u001b[0m\u001b[0m\n\u001b[0;32m   4593\u001b[0m             )\n",
      "\u001b[1;32mc:\\Users\\vaorc\\anaconda3\\lib\\site-packages\\pandas\\core\\frame.py\u001b[0m in \u001b[0;36m_reindex_columns\u001b[1;34m(self, new_columns, method, copy, level, fill_value, limit, tolerance)\u001b[0m\n\u001b[0;32m   4634\u001b[0m             \u001b[0mnew_columns\u001b[0m\u001b[1;33m,\u001b[0m \u001b[0mmethod\u001b[0m\u001b[1;33m=\u001b[0m\u001b[0mmethod\u001b[0m\u001b[1;33m,\u001b[0m \u001b[0mlevel\u001b[0m\u001b[1;33m=\u001b[0m\u001b[0mlevel\u001b[0m\u001b[1;33m,\u001b[0m \u001b[0mlimit\u001b[0m\u001b[1;33m=\u001b[0m\u001b[0mlimit\u001b[0m\u001b[1;33m,\u001b[0m \u001b[0mtolerance\u001b[0m\u001b[1;33m=\u001b[0m\u001b[0mtolerance\u001b[0m\u001b[1;33m\u001b[0m\u001b[1;33m\u001b[0m\u001b[0m\n\u001b[0;32m   4635\u001b[0m         )\n\u001b[1;32m-> 4636\u001b[1;33m         return self._reindex_with_indexers(\n\u001b[0m\u001b[0;32m   4637\u001b[0m             \u001b[1;33m{\u001b[0m\u001b[1;36m1\u001b[0m\u001b[1;33m:\u001b[0m \u001b[1;33m[\u001b[0m\u001b[0mnew_columns\u001b[0m\u001b[1;33m,\u001b[0m \u001b[0mindexer\u001b[0m\u001b[1;33m]\u001b[0m\u001b[1;33m}\u001b[0m\u001b[1;33m,\u001b[0m\u001b[1;33m\u001b[0m\u001b[1;33m\u001b[0m\u001b[0m\n\u001b[0;32m   4638\u001b[0m             \u001b[0mcopy\u001b[0m\u001b[1;33m=\u001b[0m\u001b[0mcopy\u001b[0m\u001b[1;33m,\u001b[0m\u001b[1;33m\u001b[0m\u001b[1;33m\u001b[0m\u001b[0m\n",
      "\u001b[1;32mc:\\Users\\vaorc\\anaconda3\\lib\\site-packages\\pandas\\core\\generic.py\u001b[0m in \u001b[0;36m_reindex_with_indexers\u001b[1;34m(self, reindexers, fill_value, copy, allow_dups)\u001b[0m\n\u001b[0;32m   4881\u001b[0m \u001b[1;33m\u001b[0m\u001b[0m\n\u001b[0;32m   4882\u001b[0m             \u001b[1;31m# TODO: speed up on homogeneous DataFrame objects\u001b[0m\u001b[1;33m\u001b[0m\u001b[1;33m\u001b[0m\u001b[0m\n\u001b[1;32m-> 4883\u001b[1;33m             new_data = new_data.reindex_indexer(\n\u001b[0m\u001b[0;32m   4884\u001b[0m                 \u001b[0mindex\u001b[0m\u001b[1;33m,\u001b[0m\u001b[1;33m\u001b[0m\u001b[1;33m\u001b[0m\u001b[0m\n\u001b[0;32m   4885\u001b[0m                 \u001b[0mindexer\u001b[0m\u001b[1;33m,\u001b[0m\u001b[1;33m\u001b[0m\u001b[1;33m\u001b[0m\u001b[0m\n",
      "\u001b[1;32mc:\\Users\\vaorc\\anaconda3\\lib\\site-packages\\pandas\\core\\internals\\managers.py\u001b[0m in \u001b[0;36mreindex_indexer\u001b[1;34m(self, new_axis, indexer, axis, fill_value, allow_dups, copy, consolidate, only_slice)\u001b[0m\n\u001b[0;32m    674\u001b[0m \u001b[1;33m\u001b[0m\u001b[0m\n\u001b[0;32m    675\u001b[0m         \u001b[1;32mif\u001b[0m \u001b[0maxis\u001b[0m \u001b[1;33m==\u001b[0m \u001b[1;36m0\u001b[0m\u001b[1;33m:\u001b[0m\u001b[1;33m\u001b[0m\u001b[1;33m\u001b[0m\u001b[0m\n\u001b[1;32m--> 676\u001b[1;33m             new_blocks = self._slice_take_blocks_ax0(\n\u001b[0m\u001b[0;32m    677\u001b[0m                 \u001b[0mindexer\u001b[0m\u001b[1;33m,\u001b[0m \u001b[0mfill_value\u001b[0m\u001b[1;33m=\u001b[0m\u001b[0mfill_value\u001b[0m\u001b[1;33m,\u001b[0m \u001b[0monly_slice\u001b[0m\u001b[1;33m=\u001b[0m\u001b[0monly_slice\u001b[0m\u001b[1;33m\u001b[0m\u001b[1;33m\u001b[0m\u001b[0m\n\u001b[0;32m    678\u001b[0m             )\n",
      "\u001b[1;32mc:\\Users\\vaorc\\anaconda3\\lib\\site-packages\\pandas\\core\\internals\\managers.py\u001b[0m in \u001b[0;36m_slice_take_blocks_ax0\u001b[1;34m(self, slice_or_indexer, fill_value, only_slice)\u001b[0m\n\u001b[0;32m    817\u001b[0m                             \u001b[0mblocks\u001b[0m\u001b[1;33m.\u001b[0m\u001b[0mappend\u001b[0m\u001b[1;33m(\u001b[0m\u001b[0mnb\u001b[0m\u001b[1;33m)\u001b[0m\u001b[1;33m\u001b[0m\u001b[1;33m\u001b[0m\u001b[0m\n\u001b[0;32m    818\u001b[0m                     \u001b[1;32melse\u001b[0m\u001b[1;33m:\u001b[0m\u001b[1;33m\u001b[0m\u001b[1;33m\u001b[0m\u001b[0m\n\u001b[1;32m--> 819\u001b[1;33m                         \u001b[0mnb\u001b[0m \u001b[1;33m=\u001b[0m \u001b[0mblk\u001b[0m\u001b[1;33m.\u001b[0m\u001b[0mtake_nd\u001b[0m\u001b[1;33m(\u001b[0m\u001b[0mtaker\u001b[0m\u001b[1;33m,\u001b[0m \u001b[0maxis\u001b[0m\u001b[1;33m=\u001b[0m\u001b[1;36m0\u001b[0m\u001b[1;33m,\u001b[0m \u001b[0mnew_mgr_locs\u001b[0m\u001b[1;33m=\u001b[0m\u001b[0mmgr_locs\u001b[0m\u001b[1;33m)\u001b[0m\u001b[1;33m\u001b[0m\u001b[1;33m\u001b[0m\u001b[0m\n\u001b[0m\u001b[0;32m    820\u001b[0m                         \u001b[0mblocks\u001b[0m\u001b[1;33m.\u001b[0m\u001b[0mappend\u001b[0m\u001b[1;33m(\u001b[0m\u001b[0mnb\u001b[0m\u001b[1;33m)\u001b[0m\u001b[1;33m\u001b[0m\u001b[1;33m\u001b[0m\u001b[0m\n\u001b[0;32m    821\u001b[0m \u001b[1;33m\u001b[0m\u001b[0m\n",
      "\u001b[1;32mc:\\Users\\vaorc\\anaconda3\\lib\\site-packages\\pandas\\core\\internals\\blocks.py\u001b[0m in \u001b[0;36mtake_nd\u001b[1;34m(self, indexer, axis, new_mgr_locs, fill_value)\u001b[0m\n\u001b[0;32m   1142\u001b[0m             \u001b[0mallow_fill\u001b[0m \u001b[1;33m=\u001b[0m \u001b[1;32mTrue\u001b[0m\u001b[1;33m\u001b[0m\u001b[1;33m\u001b[0m\u001b[0m\n\u001b[0;32m   1143\u001b[0m \u001b[1;33m\u001b[0m\u001b[0m\n\u001b[1;32m-> 1144\u001b[1;33m         new_values = algos.take_nd(\n\u001b[0m\u001b[0;32m   1145\u001b[0m             \u001b[0mvalues\u001b[0m\u001b[1;33m,\u001b[0m \u001b[0mindexer\u001b[0m\u001b[1;33m,\u001b[0m \u001b[0maxis\u001b[0m\u001b[1;33m=\u001b[0m\u001b[0maxis\u001b[0m\u001b[1;33m,\u001b[0m \u001b[0mallow_fill\u001b[0m\u001b[1;33m=\u001b[0m\u001b[0mallow_fill\u001b[0m\u001b[1;33m,\u001b[0m \u001b[0mfill_value\u001b[0m\u001b[1;33m=\u001b[0m\u001b[0mfill_value\u001b[0m\u001b[1;33m\u001b[0m\u001b[1;33m\u001b[0m\u001b[0m\n\u001b[0;32m   1146\u001b[0m         )\n",
      "\u001b[1;32mc:\\Users\\vaorc\\anaconda3\\lib\\site-packages\\pandas\\core\\array_algos\\take.py\u001b[0m in \u001b[0;36mtake_nd\u001b[1;34m(arr, indexer, axis, fill_value, allow_fill)\u001b[0m\n\u001b[0;32m    106\u001b[0m \u001b[1;33m\u001b[0m\u001b[0m\n\u001b[0;32m    107\u001b[0m     \u001b[0marr\u001b[0m \u001b[1;33m=\u001b[0m \u001b[0mnp\u001b[0m\u001b[1;33m.\u001b[0m\u001b[0masarray\u001b[0m\u001b[1;33m(\u001b[0m\u001b[0marr\u001b[0m\u001b[1;33m)\u001b[0m\u001b[1;33m\u001b[0m\u001b[1;33m\u001b[0m\u001b[0m\n\u001b[1;32m--> 108\u001b[1;33m     \u001b[1;32mreturn\u001b[0m \u001b[0m_take_nd_ndarray\u001b[0m\u001b[1;33m(\u001b[0m\u001b[0marr\u001b[0m\u001b[1;33m,\u001b[0m \u001b[0mindexer\u001b[0m\u001b[1;33m,\u001b[0m \u001b[0maxis\u001b[0m\u001b[1;33m,\u001b[0m \u001b[0mfill_value\u001b[0m\u001b[1;33m,\u001b[0m \u001b[0mallow_fill\u001b[0m\u001b[1;33m)\u001b[0m\u001b[1;33m\u001b[0m\u001b[1;33m\u001b[0m\u001b[0m\n\u001b[0m\u001b[0;32m    109\u001b[0m \u001b[1;33m\u001b[0m\u001b[0m\n\u001b[0;32m    110\u001b[0m \u001b[1;33m\u001b[0m\u001b[0m\n",
      "\u001b[1;31mKeyboardInterrupt\u001b[0m: "
     ]
    }
   ],
   "source": [
    "#Eliminar columnas irrelevantes para el estudio\n",
    "cols = ['nivel_dependencia','trabajo_actual','navegar_internet','voluntario','area_vivienda','tipo_vivienda','utiliza_computador','medio_transporte','utiliza_internet','estrato','posesion_vivienda','sexo','edad','estado_civil','num_personas_hogar','afiliacion_pension','color_piel', 'afiliacion_salud','grupo_etnico','raza','sabe_leer','sabe_escribir','a_educacion','nivel_educativo','ha_trabajado','edad_primer_trabajo','tipo_de_trabajo','ingresos','suficiencia_recursos','satisfaccion_ingresos','habitacion_unica','fuente_de_agua','religion','sentirse_viejo','lee_libros','escribe','resuelve_matematica','pasatiempos','escuchar_radio','ver_television','juegos_de_mesa','manualidades','hablar_con_familiares','visitar_familiares','actividad_fisica','asistir_cursos','hobbies','compras','bibliotecas_museos','eventos_cult_dep','viajar','beneficiario_alimentacion','beneficiario_col_mayor','desplazado', 'alimentacion','comidas_al_dia','lacteos','granos','carne','frutas_verduras','consumo_alcohol','consumo_cigarrillo','sexualidad','mem_subjetiva','problemas_memoria','comparacion_memoria','tiene_depresion','ejercicio','caminar','economia_familiar','salud_adolescencia','hambre_adolescencia','violencia_adolescencia','percepcion_salud','hipertension','diabetes','test_depresion','ayuda','barthel','cancer','asma','enfermedad_cardiaca','derrame_cerebral','artrosis','osteoporosis','enfermedad_mental','vision','problemas_auditivos','rechazo_infancia','abuso_gritos','abuso_maltrato_fisico','abuso_agresion','abandono','abuso_economico','salud_30_dias','hospitalizacion','amputacion','peso','talla','circunferencia_cintura','dependencia_economica', 'participa_grupos','cogcat_folstein','IMC','minimental']\n",
    "for col in df.columns:\n",
    "    if col not in cols:\n",
    "       df.drop(col, axis=1, inplace=True)"
   ]
  },
  {
   "cell_type": "code",
   "execution_count": null,
   "metadata": {},
   "outputs": [
    {
     "data": {
      "text/plain": [
       "104"
      ]
     },
     "execution_count": 394,
     "metadata": {},
     "output_type": "execute_result"
    }
   ],
   "source": [
    "len(df.columns)"
   ]
  },
  {
   "cell_type": "code",
   "execution_count": null,
   "metadata": {},
   "outputs": [
    {
     "name": "stdout",
     "output_type": "stream",
     "text": [
      "area_vivienda 0\n",
      "estrato 0\n",
      "sexo 0\n",
      "edad 0\n",
      "estado_civil 0\n",
      "num_personas_hogar 0\n",
      "afiliacion_pension 0\n",
      "afiliacion_salud 0\n",
      "grupo_etnico 0\n",
      "raza 0\n",
      "sabe_leer 0\n",
      "sabe_escribir 0\n",
      "a_educacion 0\n",
      "nivel_educativo 0\n",
      "ha_trabajado 0\n",
      "edad_primer_trabajo 0\n",
      "tipo_de_trabajo 0\n",
      "trabajo_actual 7845\n",
      "ingresos 0\n",
      "dependencia_economica 0\n",
      "suficiencia_recursos 0\n",
      "satisfaccion_ingresos 0\n",
      "tipo_vivienda 0\n",
      "posesion_vivienda 0\n",
      "habitacion_unica 0\n",
      "utiliza_computador 0\n",
      "utiliza_internet 0\n",
      "fuente_de_agua 0\n",
      "medio_transporte 0\n",
      "religion 0\n",
      "sentirse_viejo 0\n",
      "lee_libros 0\n",
      "escribe 0\n",
      "resuelve_matematica 0\n",
      "pasatiempos 0\n",
      "escuchar_radio 0\n",
      "ver_television 0\n",
      "juegos_de_mesa 0\n",
      "manualidades 0\n",
      "hablar_con_familiares 0\n",
      "visitar_familiares 0\n",
      "actividad_fisica 0\n",
      "navegar_internet 0\n",
      "asistir_cursos 0\n",
      "hobbies 0\n",
      "compras 0\n",
      "bibliotecas_museos 0\n",
      "eventos_cult_dep 0\n",
      "viajar 0\n",
      "participa_grupos 0\n",
      "beneficiario_alimentacion 0\n",
      "beneficiario_col_mayor 0\n",
      "desplazado 0\n",
      "alimentacion 0\n",
      "comidas_al_dia 0\n",
      "lacteos 0\n",
      "granos 0\n",
      "carne 0\n",
      "frutas_verduras 0\n",
      "consumo_alcohol 0\n",
      "consumo_cigarrillo 0\n",
      "sexualidad 0\n",
      "mem_subjetiva 0\n",
      "problemas_memoria 0\n",
      "comparacion_memoria 0\n",
      "ejercicio 0\n",
      "caminar 0\n",
      "economia_familiar 0\n",
      "salud_adolescencia 0\n",
      "hambre_adolescencia 0\n",
      "violencia_adolescencia 0\n",
      "percepcion_salud 0\n",
      "vision 0\n",
      "problemas_auditivos 0\n",
      "rechazo_infancia 0\n",
      "abuso_gritos 0\n",
      "abuso_maltrato_fisico 0\n",
      "abuso_agresion 0\n",
      "abandono 0\n",
      "abuso_economico 0\n",
      "hipertension 0\n",
      "diabetes 0\n",
      "cancer 0\n",
      "asma 0\n",
      "enfermedad_cardiaca 0\n",
      "derrame_cerebral 0\n",
      "artrosis 0\n",
      "osteoporosis 0\n",
      "enfermedad_mental 0\n",
      "salud_30_dias 0\n",
      "hospitalizacion 0\n",
      "peso 0\n",
      "talla 0\n",
      "circunferencia_cintura 0\n",
      "color_piel 0\n",
      "IMC 21\n",
      "minimental 0\n",
      "cogcat_folstein 0\n",
      "test_depresion 0\n",
      "tiene_depresion 0\n",
      "barthel 0\n",
      "nivel_dependencia 0\n",
      "ayuda 0\n",
      "voluntario 0\n"
     ]
    }
   ],
   "source": [
    "#verificar columnas con valores nulos\n",
    "for col in df.columns:\n",
    "    print(col, f'{df[col].isnull().sum()}')"
   ]
  },
  {
   "cell_type": "code",
   "execution_count": null,
   "metadata": {},
   "outputs": [
    {
     "data": {
      "text/plain": [
       "104"
      ]
     },
     "execution_count": 396,
     "metadata": {},
     "output_type": "execute_result"
    }
   ],
   "source": [
    "len(df.columns)"
   ]
  },
  {
   "cell_type": "code",
   "execution_count": null,
   "metadata": {},
   "outputs": [],
   "source": [
    "#Eliminar filas con valores nulos\n",
    "df = df.dropna(axis=1)"
   ]
  },
  {
   "cell_type": "code",
   "execution_count": null,
   "metadata": {},
   "outputs": [
    {
     "data": {
      "text/plain": [
       "102"
      ]
     },
     "execution_count": 398,
     "metadata": {},
     "output_type": "execute_result"
    }
   ],
   "source": [
    "len(df.columns)"
   ]
  },
  {
   "cell_type": "code",
   "execution_count": null,
   "metadata": {},
   "outputs": [
    {
     "data": {
      "text/plain": [
       "2    15973\n",
       "1     4705\n",
       "3     3016\n",
       "Name: tiene_depresion, dtype: int64"
      ]
     },
     "execution_count": 400,
     "metadata": {},
     "output_type": "execute_result"
    }
   ],
   "source": [
    "df['tiene_depresion'].value_counts()"
   ]
  },
  {
   "cell_type": "code",
   "execution_count": null,
   "metadata": {},
   "outputs": [
    {
     "data": {
      "text/plain": [
       "<AxesSubplot:xlabel='minimental', ylabel='Count'>"
      ]
     },
     "execution_count": 402,
     "metadata": {},
     "output_type": "execute_result"
    },
    {
     "data": {
      "image/png": "[encoded data removed]",
      "text/plain": [
       "<Figure size 432x288 with 1 Axes>"
      ]
     },
     "metadata": {
      "needs_background": "light"
     },
     "output_type": "display_data"
    }
   ],
   "source": [
    "sns.histplot(data= df, x ='minimental', hue='tiene_depresion',  palette=[\"C0\", \"C1\", \"r\"], binwidth= 0.6)"
   ]
  },
  {
   "cell_type": "code",
   "execution_count": null,
   "metadata": {},
   "outputs": [
    {
     "data": {
      "text/plain": [
       "<AxesSubplot:xlabel='minimental', ylabel='Count'>"
      ]
     },
     "execution_count": 411,
     "metadata": {},
     "output_type": "execute_result"
    },
    {
     "data": {
      "image/png": "[encoded data removed]",
      "text/plain": [
       "<Figure size 432x288 with 1 Axes>"
      ]
     },
     "metadata": {
      "needs_background": "light"
     },
     "output_type": "display_data"
    }
   ],
   "source": [
    "sns.histplot(data= df, x ='minimental', hue='mem_subjetiva', binwidth= 0.7)"
   ]
  },
  {
   "cell_type": "code",
   "execution_count": null,
   "metadata": {},
   "outputs": [
    {
     "ename": "AssertionError",
     "evalue": "",
     "output_type": "error",
     "traceback": [
      "\u001b[1;31m---------------------------------------------------------------------------\u001b[0m",
      "\u001b[1;31mAssertionError\u001b[0m                            Traceback (most recent call last)",
      "\u001b[1;32m~\\AppData\\Local\\Temp/ipykernel_66456/2818821216.py\u001b[0m in \u001b[0;36m<module>\u001b[1;34m\u001b[0m\n\u001b[1;32m----> 1\u001b[1;33m \u001b[1;32massert\u001b[0m\u001b[1;33m(\u001b[0m\u001b[1;32mFalse\u001b[0m\u001b[1;33m)\u001b[0m\u001b[1;33m\u001b[0m\u001b[1;33m\u001b[0m\u001b[0m\n\u001b[0m",
      "\u001b[1;31mAssertionError\u001b[0m: "
     ]
    }
   ],
   "source": [
    "assert(False)"
   ]
  },
  {
   "cell_type": "code",
   "execution_count": null,
   "metadata": {},
   "outputs": [],
   "source": [
    "#Verificar columnas con valores 9/99 u 8/98 que corresponden con no sabe o no responde\n",
    "ns_nresponde = []\n",
    "ns_nr_98_99= []\n",
    "\n",
    "\n",
    "for col in df.columns:\n",
    "    if 9 and 8 in df[col].values:\n",
    "        ns_nresponde.append(col)\n",
    "    if 98 and 99 in df[col].values:\n",
    "        ns_nr_98_99.append(col)"
   ]
  },
  {
   "cell_type": "code",
   "execution_count": null,
   "metadata": {},
   "outputs": [],
   "source": [
    "#Crear diccionario con valores que representan respuestas nulas (No sabe no responde)\n",
    "dic_columnas = {}\n",
    "for col in ns_nresponde:\n",
    "    if col == 'minimental':\n",
    "        continue\n",
    "    dic_columnas[col] = [9,8]\n",
    "for col in ns_nr_98_99:\n",
    "    if col == 'edad' or col =='circunferencia_cintura' or col == 'peso':\n",
    "        continue\n",
    "    else:\n",
    "        dic_columnas[col] = [98,99]"
   ]
  },
  {
   "cell_type": "code",
   "execution_count": null,
   "metadata": {},
   "outputs": [],
   "source": [
    "cols_cero = ['grupo_etnico', 'raza','sexualidad', 'posesion_vivienda', 'tipo_de_trabajo', 'ingresos', 'suficiencia_recursos', 'satisfaccion_ingresos','fuente_de_agua','alimentacion', 'comidas_al_dia', 'lacteos', 'granos', 'carne', 'frutas_verduras', 'mem_subjetiva', 'problemas_memoria', 'comparacion_memoria', 'economia_familiar','salud_adolescencia','hambre_adolescencia', 'violencia_adolescencia', 'percepcion_salud', 'vision', 'rechazo_infancia', 'abuso_gritos', 'abuso_maltrato_fisico', 'abuso_agresion', 'abandono', 'abuso_economico', 'artrosis','salud_30_dias','religion','tipo_vivienda']"
   ]
  },
  {
   "cell_type": "code",
   "execution_count": null,
   "metadata": {},
   "outputs": [],
   "source": [
    "for col in cols_cero:\n",
    "    if col not in dic_columnas:\n",
    "        dic_columnas[col] = []\n",
    "    dic_columnas[col].append(0)\n",
    "        "
   ]
  },
  {
   "cell_type": "code",
   "execution_count": null,
   "metadata": {},
   "outputs": [],
   "source": [
    "#Columna vision 7 es valor nulo, se remplaza por 9 para que sea eliminado en el futuro\n",
    "df['vision'].replace(7,9, inplace=True)"
   ]
  },
  {
   "cell_type": "code",
   "execution_count": null,
   "metadata": {},
   "outputs": [
    {
     "data": {
      "text/plain": [
       "23694"
      ]
     },
     "execution_count": 246,
     "metadata": {},
     "output_type": "execute_result"
    }
   ],
   "source": [
    "len(df)"
   ]
  },
  {
   "cell_type": "code",
   "execution_count": null,
   "metadata": {},
   "outputs": [],
   "source": [
    "# Eliminar respuesta #9 de la columna lee libros\n",
    "indexes = df[df['lee_libros']==9].index\n",
    "df['lee_libros'].drop(indexes, axis=0, inplace = True)"
   ]
  },
  {
   "cell_type": "code",
   "execution_count": null,
   "metadata": {},
   "outputs": [
    {
     "data": {
      "text/plain": [
       "1    12985\n",
       "9     5682\n",
       "2     5027\n",
       "Name: lee_libros, dtype: int64"
      ]
     },
     "execution_count": 248,
     "metadata": {},
     "output_type": "execute_result"
    }
   ],
   "source": [
    "df['lee_libros'].value_counts()"
   ]
  },
  {
   "cell_type": "code",
   "execution_count": null,
   "metadata": {},
   "outputs": [],
   "source": [
    "df_depresion = df.query('tiene_depresion == 1')#personas sin depresion"
   ]
  },
  {
   "cell_type": "code",
   "execution_count": null,
   "metadata": {},
   "outputs": [
    {
     "data": {
      "text/plain": [
       "4705"
      ]
     },
     "execution_count": 250,
     "metadata": {},
     "output_type": "execute_result"
    }
   ],
   "source": [
    "len(df_depresion)"
   ]
  },
  {
   "cell_type": "code",
   "execution_count": null,
   "metadata": {},
   "outputs": [
    {
     "data": {
      "text/plain": [
       "{'num_personas_hogar': [9, 8],\n",
       " 'afiliacion_pension': [9, 8],\n",
       " 'afiliacion_salud': [9, 8],\n",
       " 'grupo_etnico': [9, 8, 0],\n",
       " 'raza': [9, 8, 0],\n",
       " 'sabe_leer': [9, 8],\n",
       " 'sabe_escribir': [9, 8],\n",
       " 'a_educacion': [98, 99],\n",
       " 'nivel_educativo': [98, 99],\n",
       " 'edad_primer_trabajo': [98, 99],\n",
       " 'tipo_de_trabajo': [98, 99, 0],\n",
       " 'ingresos': [9, 8, 0],\n",
       " 'suficiencia_recursos': [9, 8, 0],\n",
       " 'satisfaccion_ingresos': [9, 8, 0],\n",
       " 'posesion_vivienda': [9, 8, 0],\n",
       " 'habitacion_unica': [9, 8],\n",
       " 'utiliza_computador': [9, 8],\n",
       " 'utiliza_internet': [9, 8],\n",
       " 'fuente_de_agua': [98, 99, 0],\n",
       " 'medio_transporte': [98, 99],\n",
       " 'religion': [9, 8, 0],\n",
       " 'sentirse_viejo': [9, 8],\n",
       " 'escribe': [9, 8],\n",
       " 'resuelve_matematica': [9, 8],\n",
       " 'pasatiempos': [9, 8],\n",
       " 'escuchar_radio': [9, 8],\n",
       " 'ver_television': [9, 8],\n",
       " 'juegos_de_mesa': [9, 8],\n",
       " 'manualidades': [9, 8],\n",
       " 'hablar_con_familiares': [9, 8],\n",
       " 'visitar_familiares': [9, 8],\n",
       " 'actividad_fisica': [9, 8],\n",
       " 'navegar_internet': [9, 8],\n",
       " 'asistir_cursos': [9, 8],\n",
       " 'hobbies': [9, 8],\n",
       " 'compras': [9, 8],\n",
       " 'bibliotecas_museos': [9, 8],\n",
       " 'eventos_cult_dep': [9, 8],\n",
       " 'viajar': [9, 8],\n",
       " 'beneficiario_alimentacion': [9, 8],\n",
       " 'beneficiario_col_mayor': [9, 8],\n",
       " 'desplazado': [9, 8],\n",
       " 'alimentacion': [9, 8, 0],\n",
       " 'comidas_al_dia': [9, 8, 0],\n",
       " 'lacteos': [9, 8, 0],\n",
       " 'granos': [9, 8, 0],\n",
       " 'carne': [9, 8, 0],\n",
       " 'frutas_verduras': [9, 8, 0],\n",
       " 'consumo_alcohol': [9, 8],\n",
       " 'consumo_cigarrillo': [9, 8],\n",
       " 'sexualidad': [9, 8, 0],\n",
       " 'mem_subjetiva': [9, 8, 0],\n",
       " 'problemas_memoria': [9, 8, 0],\n",
       " 'comparacion_memoria': [9, 8, 0],\n",
       " 'ejercicio': [9, 8],\n",
       " 'caminar': [9, 8],\n",
       " 'economia_familiar': [9, 8, 0],\n",
       " 'salud_adolescencia': [9, 8, 0],\n",
       " 'hambre_adolescencia': [9, 8, 0],\n",
       " 'violencia_adolescencia': [9, 8, 0],\n",
       " 'percepcion_salud': [9, 8, 0],\n",
       " 'vision': [9, 8, 0],\n",
       " 'problemas_auditivos': [9, 8],\n",
       " 'rechazo_infancia': [9, 8, 0],\n",
       " 'abuso_gritos': [9, 8, 0],\n",
       " 'abuso_maltrato_fisico': [9, 8, 0],\n",
       " 'abuso_agresion': [9, 8, 0],\n",
       " 'abandono': [9, 8, 0],\n",
       " 'abuso_economico': [9, 8, 0],\n",
       " 'hipertension': [9, 8],\n",
       " 'diabetes': [9, 8],\n",
       " 'cancer': [9, 8],\n",
       " 'asma': [9, 8],\n",
       " 'enfermedad_cardiaca': [9, 8],\n",
       " 'derrame_cerebral': [9, 8],\n",
       " 'artrosis': [9, 8, 0],\n",
       " 'osteoporosis': [9, 8],\n",
       " 'enfermedad_mental': [9, 8],\n",
       " 'salud_30_dias': [9, 8, 0],\n",
       " 'hospitalizacion': [9, 8],\n",
       " 'ayuda': [9, 8],\n",
       " 'voluntario': [9, 8],\n",
       " 'tipo_vivienda': [0]}"
      ]
     },
     "execution_count": 251,
     "metadata": {},
     "output_type": "execute_result"
    }
   ],
   "source": [
    "dic_columnas"
   ]
  },
  {
   "cell_type": "code",
   "execution_count": null,
   "metadata": {},
   "outputs": [
    {
     "name": "stdout",
     "output_type": "stream",
     "text": [
      "frutas_verduras:4702\n",
      "suficiencia_recursos:4701\n",
      "economia_familiar:4701\n",
      "religion:4692\n",
      "sexualidad:4691\n",
      "grupo_etnico:4690\n",
      "raza:4690\n",
      "satisfaccion_ingresos:4690\n",
      "alimentacion:4690\n",
      "comidas_al_dia:4690\n",
      "lacteos:4690\n",
      "granos:4690\n",
      "carne:4690\n",
      "mem_subjetiva:4690\n",
      "problemas_memoria:4690\n",
      "comparacion_memoria:4690\n",
      "salud_adolescencia:4690\n",
      "hambre_adolescencia:4690\n",
      "violencia_adolescencia:4690\n",
      "percepcion_salud:4690\n",
      "vision:4690\n",
      "rechazo_infancia:4690\n",
      "abuso_gritos:4690\n",
      "abuso_maltrato_fisico:4690\n",
      "abuso_agresion:4690\n",
      "abandono:4690\n",
      "abuso_economico:4690\n",
      "navegar_internet:4338\n",
      "salud_30_dias:3082\n",
      "escribe:2503\n",
      "resuelve_matematica:2500\n",
      "pasatiempos:2499\n",
      "ingresos:1086\n",
      "tipo_de_trabajo:871\n",
      "posesion_vivienda:749\n",
      "asistir_cursos:302\n",
      "num_personas_hogar:189\n",
      "juegos_de_mesa:149\n",
      "bibliotecas_museos:144\n",
      "ver_television:121\n",
      "manualidades:120\n",
      "edad_primer_trabajo:119\n",
      "escuchar_radio:108\n",
      "a_educacion:94\n",
      "fuente_de_agua:81\n",
      "hobbies:81\n",
      "actividad_fisica:77\n",
      "tipo_vivienda:74\n",
      "hablar_con_familiares:62\n",
      "nivel_educativo:58\n",
      "eventos_cult_dep:55\n",
      "ayuda:48\n",
      "voluntario:48\n",
      "osteoporosis:45\n",
      "compras:38\n",
      "diabetes:38\n",
      "visitar_familiares:36\n",
      "afiliacion_pension:33\n",
      "viajar:32\n",
      "utiliza_internet:27\n",
      "enfermedad_mental:27\n",
      "artrosis:26\n",
      "asma:25\n",
      "problemas_auditivos:23\n",
      "utiliza_computador:21\n",
      "hipertension:21\n",
      "derrame_cerebral:20\n",
      "beneficiario_alimentacion:19\n",
      "medio_transporte:15\n",
      "beneficiario_col_mayor:15\n",
      "cancer:15\n",
      "enfermedad_cardiaca:14\n",
      "caminar:10\n",
      "afiliacion_salud:8\n",
      "sabe_leer:8\n",
      "sabe_escribir:6\n",
      "consumo_cigarrillo:6\n",
      "consumo_alcohol:5\n",
      "habitacion_unica:4\n",
      "desplazado:3\n",
      "ejercicio:2\n",
      "hospitalizacion:1\n",
      "sentirse_viejo:0\n"
     ]
    }
   ],
   "source": [
    "#Se verifican las columnas que más contribuyen a la eliminación de entradas donde test_depresion = 1 (Dónde las personas son sanas)\n",
    "dictionary = {}\n",
    "indexes = []\n",
    "\n",
    "for col, value in dic_columnas.items():\n",
    "    rows = df_depresion[(df_depresion[col].isin(value))].index\n",
    "    indexes.extend(rows)\n",
    "    dictionary[col] = len(rows)\n",
    "\n",
    "to_print = sorted([(key, val) for key, val in dictionary.items()], key=lambda x:x[1], reverse=True)\n",
    "for i in to_print:\n",
    "    print(f\"{i[0]}:{i[1]}\")"
   ]
  },
  {
   "cell_type": "code",
   "execution_count": null,
   "metadata": {},
   "outputs": [
    {
     "name": "stdout",
     "output_type": "stream",
     "text": [
      "columnas eliminadas por tener más de 5 mil no sabe/no responde ('grupo_etnico', 5855)\n",
      "columnas eliminadas por tener más de 5 mil no sabe/no responde ('raza', 5554)\n",
      "columnas eliminadas por tener más de 5 mil no sabe/no responde ('tipo_de_trabajo', 3085)\n",
      "columnas eliminadas por tener más de 5 mil no sabe/no responde ('ingresos', 4091)\n",
      "columnas eliminadas por tener más de 5 mil no sabe/no responde ('suficiencia_recursos', 4822)\n",
      "columnas eliminadas por tener más de 5 mil no sabe/no responde ('satisfaccion_ingresos', 4788)\n",
      "columnas eliminadas por tener más de 5 mil no sabe/no responde ('posesion_vivienda', 3327)\n",
      "columnas eliminadas por tener más de 5 mil no sabe/no responde ('religion', 4818)\n",
      "columnas eliminadas por tener más de 5 mil no sabe/no responde ('escribe', 5698)\n",
      "columnas eliminadas por tener más de 5 mil no sabe/no responde ('resuelve_matematica', 5696)\n",
      "columnas eliminadas por tener más de 5 mil no sabe/no responde ('pasatiempos', 5701)\n",
      "columnas eliminadas por tener más de 5 mil no sabe/no responde ('navegar_internet', 20032)\n",
      "columnas eliminadas por tener más de 5 mil no sabe/no responde ('alimentacion', 4727)\n",
      "columnas eliminadas por tener más de 5 mil no sabe/no responde ('comidas_al_dia', 4710)\n",
      "columnas eliminadas por tener más de 5 mil no sabe/no responde ('lacteos', 4711)\n",
      "columnas eliminadas por tener más de 5 mil no sabe/no responde ('granos', 4699)\n",
      "columnas eliminadas por tener más de 5 mil no sabe/no responde ('carne', 4719)\n",
      "columnas eliminadas por tener más de 5 mil no sabe/no responde ('frutas_verduras', 4762)\n",
      "columnas eliminadas por tener más de 5 mil no sabe/no responde ('sexualidad', 4972)\n",
      "columnas eliminadas por tener más de 5 mil no sabe/no responde ('mem_subjetiva', 4699)\n",
      "columnas eliminadas por tener más de 5 mil no sabe/no responde ('problemas_memoria', 4717)\n",
      "columnas eliminadas por tener más de 5 mil no sabe/no responde ('comparacion_memoria', 4915)\n",
      "columnas eliminadas por tener más de 5 mil no sabe/no responde ('economia_familiar', 4790)\n",
      "columnas eliminadas por tener más de 5 mil no sabe/no responde ('salud_adolescencia', 4730)\n",
      "columnas eliminadas por tener más de 5 mil no sabe/no responde ('hambre_adolescencia', 4838)\n",
      "columnas eliminadas por tener más de 5 mil no sabe/no responde ('violencia_adolescencia', 4738)\n",
      "columnas eliminadas por tener más de 5 mil no sabe/no responde ('percepcion_salud', 4695)\n",
      "columnas eliminadas por tener más de 5 mil no sabe/no responde ('vision', 4723)\n",
      "columnas eliminadas por tener más de 5 mil no sabe/no responde ('rechazo_infancia', 5101)\n",
      "columnas eliminadas por tener más de 5 mil no sabe/no responde ('abuso_gritos', 4714)\n",
      "columnas eliminadas por tener más de 5 mil no sabe/no responde ('abuso_maltrato_fisico', 4715)\n",
      "columnas eliminadas por tener más de 5 mil no sabe/no responde ('abuso_agresion', 4713)\n",
      "columnas eliminadas por tener más de 5 mil no sabe/no responde ('abandono', 4717)\n",
      "columnas eliminadas por tener más de 5 mil no sabe/no responde ('abuso_economico', 4733)\n",
      "columnas eliminadas por tener más de 5 mil no sabe/no responde ('salud_30_dias', 15528)\n",
      "{'num_personas_hogar': 671, 'afiliacion_pension': 135, 'afiliacion_salud': 24, 'grupo_etnico': 5855, 'raza': 5554, 'sabe_leer': 22, 'sabe_escribir': 23, 'a_educacion': 163, 'nivel_educativo': 93, 'edad_primer_trabajo': 204, 'tipo_de_trabajo': 3085, 'ingresos': 4091, 'suficiencia_recursos': 4822, 'satisfaccion_ingresos': 4788, 'posesion_vivienda': 3327, 'habitacion_unica': 22, 'utiliza_computador': 144, 'utiliza_internet': 154, 'fuente_de_agua': 329, 'medio_transporte': 37, 'religion': 4818, 'sentirse_viejo': 88, 'escribe': 5698, 'resuelve_matematica': 5696, 'pasatiempos': 5701, 'escuchar_radio': 333, 'ver_television': 364, 'juegos_de_mesa': 334, 'manualidades': 282, 'hablar_con_familiares': 162, 'visitar_familiares': 85, 'actividad_fisica': 189, 'navegar_internet': 20032, 'asistir_cursos': 1148, 'hobbies': 291, 'compras': 91, 'bibliotecas_museos': 464, 'eventos_cult_dep': 168, 'viajar': 91, 'beneficiario_alimentacion': 54, 'beneficiario_col_mayor': 76, 'desplazado': 5, 'alimentacion': 4727, 'comidas_al_dia': 4710, 'lacteos': 4711, 'granos': 4699, 'carne': 4719, 'frutas_verduras': 4762, 'consumo_alcohol': 17, 'consumo_cigarrillo': 8, 'sexualidad': 4972, 'mem_subjetiva': 4699, 'problemas_memoria': 4717, 'comparacion_memoria': 4915, 'ejercicio': 5, 'caminar': 26, 'economia_familiar': 4790, 'salud_adolescencia': 4730, 'hambre_adolescencia': 4838, 'violencia_adolescencia': 4738, 'percepcion_salud': 4695, 'vision': 4723, 'problemas_auditivos': 67, 'rechazo_infancia': 5101, 'abuso_gritos': 4714, 'abuso_maltrato_fisico': 4715, 'abuso_agresion': 4713, 'abandono': 4717, 'abuso_economico': 4733, 'hipertension': 46, 'diabetes': 90, 'cancer': 38, 'asma': 44, 'enfermedad_cardiaca': 29, 'derrame_cerebral': 37, 'artrosis': 50, 'osteoporosis': 114, 'enfermedad_mental': 65, 'salud_30_dias': 15528, 'hospitalizacion': 3, 'ayuda': 218, 'voluntario': 154, 'tipo_vivienda': 295}\n"
     ]
    }
   ],
   "source": [
    "#Borrar filas con valores no sabe/no responde\n",
    "indexes = []\n",
    "to_detele = []\n",
    "dictionary = {}\n",
    "threshold = 3000\n",
    "for col, value in dic_columnas.items():\n",
    "    rows = df[(df[col].isin(value))].index\n",
    "    dictionary[col] = len(rows)\n",
    "\n",
    "for key,value in dictionary.items():\n",
    "    if value >= threshold:\n",
    "        print(f'columnas eliminadas por tener más de 5 mil no sabe/no responde {key, value}')\n",
    "        df.drop(key, inplace= True, axis = 1)\n",
    "\n",
    "for col, value in dic_columnas.items():\n",
    "    if col in df.columns:\n",
    "        rows = df[(df[col].isin(value))].index\n",
    "        indexes.extend(rows)\n",
    "        \n",
    "for i in indexes:\n",
    "    if i not in to_detele:\n",
    "        to_detele.append(i)\n",
    "        \n",
    "df.drop(to_detele, axis = 0, inplace=True)\n",
    "\n",
    "print(dictionary)\n"
   ]
  },
  {
   "cell_type": "code",
   "execution_count": null,
   "metadata": {},
   "outputs": [
    {
     "data": {
      "text/plain": [
       "2    13234\n",
       "1     3486\n",
       "3     2560\n",
       "Name: tiene_depresion, dtype: int64"
      ]
     },
     "execution_count": 254,
     "metadata": {},
     "output_type": "execute_result"
    }
   ],
   "source": [
    "df['tiene_depresion'].value_counts()"
   ]
  },
  {
   "cell_type": "code",
   "execution_count": null,
   "metadata": {},
   "outputs": [],
   "source": [
    "#Unificar resultados para columnas con opcion si/no\n",
    "yes_no = []\n",
    "for col in df.columns:\n",
    "    if len(df[col].unique()) == 2:\n",
    "        yes_no.append(col)"
   ]
  },
  {
   "cell_type": "code",
   "execution_count": null,
   "metadata": {},
   "outputs": [
    {
     "data": {
      "text/plain": [
       "['area_vivienda',\n",
       " 'sexo',\n",
       " 'sabe_leer',\n",
       " 'sabe_escribir',\n",
       " 'dependencia_economica',\n",
       " 'habitacion_unica',\n",
       " 'utiliza_computador',\n",
       " 'utiliza_internet',\n",
       " 'escuchar_radio',\n",
       " 'ver_television',\n",
       " 'juegos_de_mesa',\n",
       " 'manualidades',\n",
       " 'hablar_con_familiares',\n",
       " 'visitar_familiares',\n",
       " 'actividad_fisica',\n",
       " 'asistir_cursos',\n",
       " 'hobbies',\n",
       " 'compras',\n",
       " 'bibliotecas_museos',\n",
       " 'eventos_cult_dep',\n",
       " 'viajar',\n",
       " 'participa_grupos',\n",
       " 'beneficiario_alimentacion',\n",
       " 'beneficiario_col_mayor',\n",
       " 'desplazado',\n",
       " 'ejercicio',\n",
       " 'caminar',\n",
       " 'problemas_auditivos',\n",
       " 'hipertension',\n",
       " 'diabetes',\n",
       " 'cancer',\n",
       " 'asma',\n",
       " 'enfermedad_cardiaca',\n",
       " 'derrame_cerebral',\n",
       " 'artrosis',\n",
       " 'osteoporosis',\n",
       " 'enfermedad_mental',\n",
       " 'hospitalizacion',\n",
       " 'ayuda',\n",
       " 'voluntario']"
      ]
     },
     "execution_count": 256,
     "metadata": {},
     "output_type": "execute_result"
    }
   ],
   "source": [
    "yes_no"
   ]
  },
  {
   "cell_type": "code",
   "execution_count": null,
   "metadata": {},
   "outputs": [],
   "source": [
    "# Columnas con opcion 1(si)/2(no) son unificadas a la convención 1(si)/0(no)\n",
    "for col in yes_no:\n",
    "    if col == 'sexo' or col == 'area_vivienda':\n",
    "        continue\n",
    "    elif 2 in df[col]:\n",
    "        df[col].replace(2,0, inplace=True)\n",
    "        "
   ]
  },
  {
   "cell_type": "code",
   "execution_count": null,
   "metadata": {},
   "outputs": [],
   "source": [
    "#cambiar entradas de columna color de piel a numericas\n",
    "df['color_piel'].replace({'claro':0,'medio':1, 'oscuro':2}, inplace=True)"
   ]
  },
  {
   "cell_type": "code",
   "execution_count": null,
   "metadata": {},
   "outputs": [
    {
     "data": {
      "text/plain": [
       "19280"
      ]
     },
     "execution_count": 259,
     "metadata": {},
     "output_type": "execute_result"
    }
   ],
   "source": [
    "len(df)"
   ]
  },
  {
   "cell_type": "code",
   "execution_count": null,
   "metadata": {},
   "outputs": [
    {
     "data": {
      "text/plain": [
       "1    16907\n",
       "2     2372\n",
       "9        1\n",
       "Name: ha_trabajado, dtype: int64"
      ]
     },
     "execution_count": 260,
     "metadata": {},
     "output_type": "execute_result"
    }
   ],
   "source": [
    "df['ha_trabajado'].value_counts()"
   ]
  },
  {
   "cell_type": "code",
   "execution_count": null,
   "metadata": {},
   "outputs": [
    {
     "data": {
      "text/plain": [
       "Int64Index([587], dtype='int64')"
      ]
     },
     "execution_count": 261,
     "metadata": {},
     "output_type": "execute_result"
    }
   ],
   "source": [
    "df.query('ha_trabajado == 9').index"
   ]
  },
  {
   "cell_type": "code",
   "execution_count": null,
   "metadata": {},
   "outputs": [],
   "source": [
    "df.drop(index=587, axis=0, inplace=True)"
   ]
  },
  {
   "cell_type": "code",
   "execution_count": null,
   "metadata": {},
   "outputs": [
    {
     "data": {
      "text/plain": [
       "Index(['area_vivienda', 'estrato', 'sexo', 'edad', 'estado_civil',\n",
       "       'num_personas_hogar', 'afiliacion_pension', 'afiliacion_salud',\n",
       "       'sabe_leer', 'sabe_escribir', 'a_educacion', 'nivel_educativo',\n",
       "       'ha_trabajado', 'edad_primer_trabajo', 'dependencia_economica',\n",
       "       'tipo_vivienda', 'habitacion_unica', 'utiliza_computador',\n",
       "       'utiliza_internet', 'fuente_de_agua', 'medio_transporte',\n",
       "       'sentirse_viejo', 'lee_libros', 'escuchar_radio', 'ver_television',\n",
       "       'juegos_de_mesa', 'manualidades', 'hablar_con_familiares',\n",
       "       'visitar_familiares', 'actividad_fisica', 'asistir_cursos', 'hobbies',\n",
       "       'compras', 'bibliotecas_museos', 'eventos_cult_dep', 'viajar',\n",
       "       'participa_grupos', 'beneficiario_alimentacion',\n",
       "       'beneficiario_col_mayor', 'desplazado', 'consumo_alcohol',\n",
       "       'consumo_cigarrillo', 'ejercicio', 'caminar', 'problemas_auditivos',\n",
       "       'hipertension', 'diabetes', 'cancer', 'asma', 'enfermedad_cardiaca',\n",
       "       'derrame_cerebral', 'artrosis', 'osteoporosis', 'enfermedad_mental',\n",
       "       'hospitalizacion', 'peso', 'talla', 'circunferencia_cintura',\n",
       "       'color_piel', 'minimental', 'cogcat_folstein', 'test_depresion',\n",
       "       'tiene_depresion', 'barthel', 'nivel_dependencia', 'ayuda',\n",
       "       'voluntario'],\n",
       "      dtype='object')"
      ]
     },
     "execution_count": 263,
     "metadata": {},
     "output_type": "execute_result"
    }
   ],
   "source": [
    "df.columns"
   ]
  },
  {
   "cell_type": "code",
   "execution_count": null,
   "metadata": {},
   "outputs": [],
   "source": [
    "df.to_csv('cleaned_sabe_depresion.csv', index=False, header=True)"
   ]
  }
 ],
 "metadata": {
  "kernelspec": {
   "display_name": "Python 3.9.7 ('base')",
   "language": "python",
   "name": "python3"
  },
  "language_info": {
   "codemirror_mode": {
    "name": "ipython",
    "version": 3
   },
   "file_extension": ".py",
   "mimetype": "text/x-python",
   "name": "python",
   "nbconvert_exporter": "python",
   "pygments_lexer": "ipython3",
   "version": "3.9.7"
  },
  "orig_nbformat": 4,
  "vscode": {
   "interpreter": {
    "hash": "2457de16549bda2ea19f462abbb8ee75322c13e2a4d708fd29b237268ab2c90c"
   }
  }
 },
 "nbformat": 4,
 "nbformat_minor": 2
}
