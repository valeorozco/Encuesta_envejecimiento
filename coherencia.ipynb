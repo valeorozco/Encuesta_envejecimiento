{
 "cells": [
  {
   "cell_type": "code",
   "execution_count": 1,
   "metadata": {},
   "outputs": [],
   "source": [
    "import numpy as np\n",
    "import matplotlib.pyplot as plt\n",
    "import pandas as pd\n",
    "import seaborn as sns\n",
    "from scipy.stats import kendalltau\n",
    "import scipy.stats as stats\n",
    "from sklearn import preprocessing"
   ]
  },
  {
   "cell_type": "code",
   "execution_count": 2,
   "metadata": {},
   "outputs": [],
   "source": [
    "#leer la base de datos sin depresion\n",
    "df = pd.read_csv('data_sin_depresion/cleaned_sabe_healthy.csv', encoding='latin-1')"
   ]
  },
  {
   "cell_type": "code",
   "execution_count": 3,
   "metadata": {},
   "outputs": [],
   "source": [
    "df.drop(df.loc[df['estado_civil']==9].index, axis=0, inplace = True)\n",
    "df.drop(df.loc[df['actividad_fisica']==9].index, axis=0, inplace = True)"
   ]
  },
  {
   "cell_type": "code",
   "execution_count": 4,
   "metadata": {},
   "outputs": [
    {
     "data": {
      "text/plain": [
       "Index(['area_vivienda', 'estrato', 'sexo', 'edad', 'estado_civil',\n",
       "       'num_personas_hogar', 'afiliacion_pension', 'afiliacion_salud',\n",
       "       'grupo_etnico', 'raza',\n",
       "       ...\n",
       "       'orientacion', 'conteo', 'minimental', 'cogcat_folstein',\n",
       "       'test_depresion', 'tiene_depresion', 'barthel', 'nivel_dependencia',\n",
       "       'ayuda', 'voluntario'],\n",
       "      dtype='object', length=106)"
      ]
     },
     "execution_count": 4,
     "metadata": {},
     "output_type": "execute_result"
    }
   ],
   "source": [
    "df.columns"
   ]
  },
  {
   "cell_type": "code",
   "execution_count": 5,
   "metadata": {},
   "outputs": [
    {
     "data": {
      "text/plain": [
       "3    1435\n",
       "2    1116\n",
       "1     175\n",
       "4     172\n",
       "5      27\n",
       "Name: mem_subjetiva, dtype: int64"
      ]
     },
     "execution_count": 5,
     "metadata": {},
     "output_type": "execute_result"
    }
   ],
   "source": [
    "df['mem_subjetiva'].value_counts()\n",
    "#1 buena - muy mala 5"
   ]
  },
  {
   "cell_type": "code",
   "execution_count": 6,
   "metadata": {},
   "outputs": [
    {
     "data": {
      "text/plain": [
       "4    1276\n",
       "3    1067\n",
       "1     374\n",
       "2     208\n",
       "Name: problemas_memoria, dtype: int64"
      ]
     },
     "execution_count": 6,
     "metadata": {},
     "output_type": "execute_result"
    }
   ],
   "source": [
    "df['problemas_memoria'].value_counts()\n",
    "#si 1 - no 4"
   ]
  },
  {
   "cell_type": "code",
   "execution_count": 7,
   "metadata": {},
   "outputs": [
    {
     "data": {
      "text/plain": [
       "2    1921\n",
       "3     806\n",
       "1     198\n",
       "Name: comparacion_memoria, dtype: int64"
      ]
     },
     "execution_count": 7,
     "metadata": {},
     "output_type": "execute_result"
    }
   ],
   "source": [
    "df['comparacion_memoria'].value_counts()\n",
    "#1 mejor - 3 peor"
   ]
  },
  {
   "cell_type": "code",
   "execution_count": 8,
   "metadata": {},
   "outputs": [],
   "source": [
    "#Invertimos comparacion memoria y memoria subjetiva para que valores menores representen mala memoria y valores mayores representen buena memoria\n",
    "df['comparacion_memoria']= 4- df['comparacion_memoria'] \n",
    "df['mem_subjetiva']= 6 - df['mem_subjetiva'] "
   ]
  },
  {
   "cell_type": "code",
   "execution_count": 9,
   "metadata": {},
   "outputs": [
    {
     "data": {
      "text/plain": [
       "2    1921\n",
       "1     806\n",
       "3     198\n",
       "Name: comparacion_memoria, dtype: int64"
      ]
     },
     "execution_count": 9,
     "metadata": {},
     "output_type": "execute_result"
    }
   ],
   "source": [
    "df['comparacion_memoria'].value_counts()"
   ]
  },
  {
   "cell_type": "code",
   "execution_count": 10,
   "metadata": {},
   "outputs": [
    {
     "data": {
      "text/plain": [
       "3    1435\n",
       "4    1116\n",
       "5     175\n",
       "2     172\n",
       "1      27\n",
       "Name: mem_subjetiva, dtype: int64"
      ]
     },
     "execution_count": 10,
     "metadata": {},
     "output_type": "execute_result"
    }
   ],
   "source": [
    "df['mem_subjetiva'].value_counts()"
   ]
  },
  {
   "cell_type": "code",
   "execution_count": 11,
   "metadata": {},
   "outputs": [],
   "source": [
    "#generamos un valor total para la escala de memoria subjetiva, sumando todos los valores\n",
    "df['escala_memoria'] =  df['comparacion_memoria']+df['problemas_memoria']+df['mem_subjetiva']"
   ]
  },
  {
   "cell_type": "code",
   "execution_count": 12,
   "metadata": {},
   "outputs": [
    {
     "data": {
      "text/plain": [
       "10    740\n",
       "9     563\n",
       "8     553\n",
       "7     342\n",
       "6     254\n",
       "5     190\n",
       "11    186\n",
       "4      67\n",
       "12     21\n",
       "3       9\n",
       "Name: escala_memoria, dtype: int64"
      ]
     },
     "execution_count": 12,
     "metadata": {},
     "output_type": "execute_result"
    }
   ],
   "source": [
    "#De 3 a 12, 3 siendo el puntaje menor -> deterioro memoria y 12 representa -> mejor memoria.\n",
    "df['escala_memoria'].value_counts()"
   ]
  },
  {
   "cell_type": "code",
   "execution_count": 13,
   "metadata": {},
   "outputs": [
    {
     "data": {
      "text/plain": [
       "<AxesSubplot:xlabel='minimental', ylabel='Count'>"
      ]
     },
     "execution_count": 13,
     "metadata": {},
     "output_type": "execute_result"
    },
    {
     "data": {
      "image/png": "[encoded data removed]",
      "text/plain": [
       "<Figure size 432x288 with 1 Axes>"
      ]
     },
     "metadata": {
      "needs_background": "light"
     },
     "output_type": "display_data"
    }
   ],
   "source": [
    "sns.histplot(data= df, x= 'minimental')\n"
   ]
  },
  {
   "cell_type": "code",
   "execution_count": 14,
   "metadata": {},
   "outputs": [
    {
     "data": {
      "text/plain": [
       "<AxesSubplot:xlabel='escala_memoria', ylabel='Count'>"
      ]
     },
     "execution_count": 14,
     "metadata": {},
     "output_type": "execute_result"
    },
    {
     "data": {
      "image/png": "[encoded data removed]",
      "text/plain": [
       "<Figure size 432x288 with 1 Axes>"
      ]
     },
     "metadata": {
      "needs_background": "light"
     },
     "output_type": "display_data"
    }
   ],
   "source": [
    "sns.histplot(data= df, x= 'escala_memoria')"
   ]
  },
  {
   "cell_type": "code",
   "execution_count": 15,
   "metadata": {},
   "outputs": [
    {
     "data": {
      "text/plain": [
       "<AxesSubplot:xlabel='minimental', ylabel='escala_memoria'>"
      ]
     },
     "execution_count": 15,
     "metadata": {},
     "output_type": "execute_result"
    },
    {
     "data": {
      "image/png": "[encoded data removed]",
      "text/plain": [
       "<Figure size 432x288 with 1 Axes>"
      ]
     },
     "metadata": {
      "needs_background": "light"
     },
     "output_type": "display_data"
    }
   ],
   "source": [
    "sns.scatterplot(data= df, y= 'escala_memoria', x = 'minimental',hue= 'cogcat_folstein')\n",
    "#   1 normal\n",
    "#   2 impaired\n",
    "#   3 borderline"
   ]
  },
  {
   "cell_type": "code",
   "execution_count": 16,
   "metadata": {},
   "outputs": [
    {
     "data": {
      "text/plain": [
       "2925"
      ]
     },
     "execution_count": 16,
     "metadata": {},
     "output_type": "execute_result"
    }
   ],
   "source": [
    "len(df)"
   ]
  },
  {
   "cell_type": "code",
   "execution_count": 17,
   "metadata": {},
   "outputs": [],
   "source": [
    "#Borrar entradas con valores de minimental menores a 24\n",
    "indexes_to_drop = df.query('minimental<=18').index\n",
    "indexes_to_drop\n",
    "df.drop(indexes_to_drop, axis = 0, inplace= True)"
   ]
  },
  {
   "cell_type": "code",
   "execution_count": 18,
   "metadata": {},
   "outputs": [
    {
     "data": {
      "text/plain": [
       "3"
      ]
     },
     "execution_count": 18,
     "metadata": {},
     "output_type": "execute_result"
    }
   ],
   "source": [
    "len(indexes_to_drop)"
   ]
  },
  {
   "cell_type": "code",
   "execution_count": 19,
   "metadata": {},
   "outputs": [],
   "source": [
    "df_deterioro_leve  = df[df['minimental']<24]"
   ]
  },
  {
   "cell_type": "code",
   "execution_count": 20,
   "metadata": {},
   "outputs": [
    {
     "data": {
      "text/plain": [
       "<AxesSubplot:xlabel='minimental', ylabel='escala_memoria'>"
      ]
     },
     "execution_count": 20,
     "metadata": {},
     "output_type": "execute_result"
    },
    {
     "data": {
      "image/png": "[encoded data removed]",
      "text/plain": [
       "<Figure size 432x288 with 1 Axes>"
      ]
     },
     "metadata": {
      "needs_background": "light"
     },
     "output_type": "display_data"
    }
   ],
   "source": [
    "sns.boxplot( data = df_deterioro_leve, y= 'escala_memoria', x = 'minimental')"
   ]
  },
  {
   "cell_type": "code",
   "execution_count": 21,
   "metadata": {},
   "outputs": [],
   "source": [
    "duda_deterioro  = (df.loc[(df['minimental']>=25) & (df['minimental']<=26)])"
   ]
  },
  {
   "cell_type": "code",
   "execution_count": 22,
   "metadata": {},
   "outputs": [
    {
     "data": {
      "text/plain": [
       "<AxesSubplot:xlabel='minimental', ylabel='escala_memoria'>"
      ]
     },
     "execution_count": 22,
     "metadata": {},
     "output_type": "execute_result"
    },
    {
     "data": {
      "image/png": "[encoded data removed]",
      "text/plain": [
       "<Figure size 432x288 with 1 Axes>"
      ]
     },
     "metadata": {
      "needs_background": "light"
     },
     "output_type": "display_data"
    }
   ],
   "source": [
    "sns.boxplot( data = duda_deterioro, y= 'escala_memoria', x = 'minimental')"
   ]
  },
  {
   "cell_type": "code",
   "execution_count": 23,
   "metadata": {},
   "outputs": [],
   "source": [
    "sin_deterioro = df[df['minimental']>26]"
   ]
  },
  {
   "cell_type": "code",
   "execution_count": 24,
   "metadata": {},
   "outputs": [
    {
     "data": {
      "text/plain": [
       "<AxesSubplot:xlabel='minimental', ylabel='escala_memoria'>"
      ]
     },
     "execution_count": 24,
     "metadata": {},
     "output_type": "execute_result"
    },
    {
     "data": {
      "image/png": "[encoded data removed]",
      "text/plain": [
       "<Figure size 432x288 with 1 Axes>"
      ]
     },
     "metadata": {
      "needs_background": "light"
     },
     "output_type": "display_data"
    }
   ],
   "source": [
    "sns.boxplot( data = sin_deterioro, y= 'escala_memoria', x = 'minimental')"
   ]
  },
  {
   "cell_type": "code",
   "execution_count": 25,
   "metadata": {},
   "outputs": [
    {
     "name": "stdout",
     "output_type": "stream",
     "text": [
      "deterioro leve: 101, duda deterioro: 512, sin deterioro: 2166\n"
     ]
    }
   ],
   "source": [
    "print(f'deterioro leve: {len(df_deterioro_leve)}, duda deterioro: {len(duda_deterioro)}, sin deterioro: {len(sin_deterioro)}')"
   ]
  },
  {
   "cell_type": "markdown",
   "metadata": {},
   "source": [
    "## Evaluar correlación entre variables y escala_memoria"
   ]
  },
  {
   "cell_type": "code",
   "execution_count": 26,
   "metadata": {},
   "outputs": [
    {
     "data": {
      "text/plain": [
       "array([3, 1, 2], dtype=int64)"
      ]
     },
     "execution_count": 26,
     "metadata": {},
     "output_type": "execute_result"
    }
   ],
   "source": [
    "df['afiliacion_pension'].unique()"
   ]
  },
  {
   "cell_type": "code",
   "execution_count": 27,
   "metadata": {},
   "outputs": [],
   "source": [
    "#convertir columnas a dummy\n",
    "df= pd.get_dummies(df, columns = ['fuente_de_agua','medio_transporte','color_piel','mem_subjetiva','problemas_memoria','comparacion_memoria','consumo_cigarrillo','consumo_alcohol','alimentacion','religion','suficiencia_recursos','afiliacion_salud','afiliacion_pension','nivel_educativo','sexualidad','ingresos','estrato', 'percepcion_salud','estado_civil','tipo_de_trabajo','satisfaccion_ingresos','posesion_vivienda','tipo_vivienda','cogcat_folstein'])"
   ]
  },
  {
   "cell_type": "code",
   "execution_count": 28,
   "metadata": {},
   "outputs": [],
   "source": [
    "df.rename(columns={'color_piel0':'piel_claro','color_piel1':'piel_medio','color_piel2':'piel_oscura','consumo_cigarrillo1':'fumo_y_fuma','consumo_cigarrillo2':'fumo_no_fuma','consumo_cigarrillo3':'no_fumo_fuma','consumo_cigarrillo4':'nunca_ha_fumado','consumo_alcohol1':'alcohol_menos_un_dia','consumo_alcohol2':'alcohol_3_dias_sem','consumo_alcohol3':'alcohol_6dias_sem','consumo_alcohol4':'alcohol_todos_sem','consumo_alcohol5':'alcohol_no_consume','alimentacion1':'alimenta_mucho_menos','alimentacion2':'alimenta_menos','alimentacion3':'alimenta_igual','religion1':'nada_religioso','religion2':'poco_religioso','religion3':'muy_religioso','suficiencia_recursos1':'rec_muy_suficientes','suficiencia_recursos2':'rec_suficientes','suficiencia_recursos3':'rec_insuficientes','suficiencia_recursos4':'rec_muy_insuficientes','afiliacion_salud1':'contributivo','afiliacion_salud2':'subsidiado','afiliacion_salud3':'de_excepcion','afiliacion_salud3':'especial','afiliacion_salud3':'no_afiliado','afiliacion_pension1':'pension_publica','afiliacion_pension2':'pension_privada','afiliacion_pension':'sin_pension','mem_subjetiva_1':'mem_muy_buena','mem_subjetiva_2':'mem_buena','mem_subjetiva_3':'mem_regular','mem_subjetiva_4':'mem_mala','mem_subjetiva_5':'mem_muy_mala','sexualidad_1':'sex_muy_importante','sexualidad_2':'sex_importante','sexualidad_3':'sex_neutro','sexualidad_4':'sex_poco_imp','sexualidad_5':'sex_nada_imp','nivel_educativo_1':'edu_ninguno','nivel_educativo_2':'primaria_incompleta','nivel_educativo_3':'primaria','nivel_educativo_4':'secundaria_incompleta','nivel_educativo_5':'secundaria','nivel_educativo_6':'tecnico_sin_titulo','nivel_educativo_7':'tecnico','nivel_educativo_8':'universitario_sin_titulo','nivel_educativo_9':'universitario','nivel_educativo_10':'posgrado_sin_titulo', 'nivel_educativo_11': 'posgrado','ingresos_1':'<1SMLV', 'ingresos_2':'1SMLV','ingresos_3':'hasta_1.288','ingresos_4':'hasta_1.933','ingresos_5':'hasta_2.577', 'ingresos_6':'mas_de_2.577','percepcion_salud_1':'perc_muy_buena','percepcion_salud_2':'perc_buena','percepcion_salud_3':'perc_regular','percepcion_salud_4':'perc_mala','percepcion_salud_5':'perc_muy mala','estado_civil_1':'casado','estado_civil_2':'unido','estado_civil_3':'separado','estado_civil_4':'viudo','estado_civil_5':'soltero','tipo_de_trabajo_1':'empleado particular','tipo_de_trabajo_2':'empleado gobierno','tipo_de_trabajo_3':'jornalero','tipo_de_trabajo_4':'Empleador','tipo_de_trabajo_5':'trabajador_independiente', 'tipo_de_trabajo_6':'trabajador_no_remunerado', 'tipo_de_trabajo_7':'profesional_independiente', 'tipo_de_trabajo_8':'trabajador_destajo', 'tipo_de_trabajo_9':'empleado_domestico','satisfaccion_ingresos_1':'muy_sat_ingreso','satisfaccion_ingresos_2':'satisfecho_ingreso','satisfaccion_ingresos_3':'neutral_ingreso','satisfaccion_ingresos_4':'poco_satisfecho_ingreso','satisfaccion_ingresos_5':'insatisfecho_ingreso','posesion_vivienda_1':'arriendo','posesion_vivienda_2':'vivienda propia pagando','posesion_vivienda_3':'vivienda propia','posesion_vivienda_4':'vivienda en usufructo','posesion_vivienda_5':'vivienda en empeño','posesion_vivienda_6':'ocupante', 'posesion_vivienda_7':'propiedad_colectiva','posesion_vivienda_8':'propiedad_familiar','tipo_vivienda_1':'casa','tipo_vivienda_2':'apartamento','tipo_vivienda_3':'cuarto inquilinato','tipo_vivienda_4':'cuarto','tipo_vivienda_5':'indigena','tipo_vivienda_6':'otro','cogcat_folstein_1':'normal','cogcat_folstein_2':'impaired','cogcat_folstein_3':'borderline'}, inplace= True)"
   ]
  },
  {
   "cell_type": "code",
   "execution_count": 29,
   "metadata": {},
   "outputs": [
    {
     "data": {
      "text/plain": [
       "0       0\n",
       "1       0\n",
       "2       1\n",
       "3       0\n",
       "4       0\n",
       "       ..\n",
       "2930    0\n",
       "2931    0\n",
       "2932    0\n",
       "2933    0\n",
       "2934    0\n",
       "Name: tiene_depresion, Length: 2922, dtype: int64"
      ]
     },
     "execution_count": 29,
     "metadata": {},
     "output_type": "execute_result"
    }
   ],
   "source": [
    "#remplazar tiene depresion 2/3 por 0/1 0-> mild y 1-> depresion\n",
    "df.tiene_depresion.replace({2:0,3:1})"
   ]
  },
  {
   "cell_type": "code",
   "execution_count": 30,
   "metadata": {},
   "outputs": [],
   "source": [
    "cols_cat = []\n",
    "cols_num = []\n",
    "for cols in df.columns:\n",
    "    if df[cols].nunique()==2:\n",
    "        cols_cat.append(cols)\n",
    "    else:\n",
    "        cols_num.append(cols)"
   ]
  },
  {
   "cell_type": "code",
   "execution_count": 31,
   "metadata": {},
   "outputs": [],
   "source": [
    "#Correlacion con escala_memoria de variables categoricas: \n",
    "corr = []\n",
    "columna = []\n",
    "p_val = []\n",
    "for col in cols_cat:\n",
    "    r, p = stats.pointbiserialr(df['escala_memoria'], df[col])\n",
    "    r = abs(r)\n",
    "    if (p< 0.005) & (r >= abs(0.1)):\n",
    "        columna.append(col)\n",
    "        p_val.append(p)\n",
    "        corr.append(r)"
   ]
  },
  {
   "cell_type": "code",
   "execution_count": 32,
   "metadata": {},
   "outputs": [],
   "source": [
    "correlacion_binaria = pd.DataFrame(list(zip(columna,p_val,corr)), columns=['columna','p_value','correlacion'])"
   ]
  },
  {
   "cell_type": "code",
   "execution_count": 33,
   "metadata": {},
   "outputs": [
    {
     "data": {
      "text/html": [
       "<div>\n",
       "<style scoped>\n",
       "    .dataframe tbody tr th:only-of-type {\n",
       "        vertical-align: middle;\n",
       "    }\n",
       "\n",
       "    .dataframe tbody tr th {\n",
       "        vertical-align: top;\n",
       "    }\n",
       "\n",
       "    .dataframe thead th {\n",
       "        text-align: right;\n",
       "    }\n",
       "</style>\n",
       "<table border=\"1\" class=\"dataframe\">\n",
       "  <thead>\n",
       "    <tr style=\"text-align: right;\">\n",
       "      <th></th>\n",
       "      <th>columna</th>\n",
       "      <th>p_value</th>\n",
       "      <th>correlacion</th>\n",
       "    </tr>\n",
       "  </thead>\n",
       "  <tbody>\n",
       "    <tr>\n",
       "      <th>16</th>\n",
       "      <td>enfermedad_mental</td>\n",
       "      <td>3.722735e-08</td>\n",
       "      <td>0.101592</td>\n",
       "    </tr>\n",
       "    <tr>\n",
       "      <th>5</th>\n",
       "      <td>actividad_fisica</td>\n",
       "      <td>7.751117e-09</td>\n",
       "      <td>0.106553</td>\n",
       "    </tr>\n",
       "    <tr>\n",
       "      <th>8</th>\n",
       "      <td>lacteos</td>\n",
       "      <td>2.162351e-09</td>\n",
       "      <td>0.110430</td>\n",
       "    </tr>\n",
       "    <tr>\n",
       "      <th>17</th>\n",
       "      <td>nivel_dependencia</td>\n",
       "      <td>1.882252e-09</td>\n",
       "      <td>0.110843</td>\n",
       "    </tr>\n",
       "    <tr>\n",
       "      <th>4</th>\n",
       "      <td>pasatiempos</td>\n",
       "      <td>1.676754e-09</td>\n",
       "      <td>0.111187</td>\n",
       "    </tr>\n",
       "    <tr>\n",
       "      <th>7</th>\n",
       "      <td>beneficiario_col_mayor</td>\n",
       "      <td>1.656228e-09</td>\n",
       "      <td>0.111223</td>\n",
       "    </tr>\n",
       "    <tr>\n",
       "      <th>33</th>\n",
       "      <td>afiliacion_salud_1</td>\n",
       "      <td>7.950584e-10</td>\n",
       "      <td>0.113378</td>\n",
       "    </tr>\n",
       "    <tr>\n",
       "      <th>15</th>\n",
       "      <td>osteoporosis</td>\n",
       "      <td>6.620789e-10</td>\n",
       "      <td>0.113909</td>\n",
       "    </tr>\n",
       "    <tr>\n",
       "      <th>25</th>\n",
       "      <td>problemas_memoria_3</td>\n",
       "      <td>4.613716e-10</td>\n",
       "      <td>0.114950</td>\n",
       "    </tr>\n",
       "    <tr>\n",
       "      <th>9</th>\n",
       "      <td>carne</td>\n",
       "      <td>2.143943e-10</td>\n",
       "      <td>0.117130</td>\n",
       "    </tr>\n",
       "    <tr>\n",
       "      <th>11</th>\n",
       "      <td>caminar</td>\n",
       "      <td>6.609808e-11</td>\n",
       "      <td>0.120400</td>\n",
       "    </tr>\n",
       "    <tr>\n",
       "      <th>36</th>\n",
       "      <td>universitario</td>\n",
       "      <td>4.520759e-11</td>\n",
       "      <td>0.121437</td>\n",
       "    </tr>\n",
       "    <tr>\n",
       "      <th>32</th>\n",
       "      <td>suficiencia_recursos_2</td>\n",
       "      <td>1.665653e-11</td>\n",
       "      <td>0.124122</td>\n",
       "    </tr>\n",
       "    <tr>\n",
       "      <th>12</th>\n",
       "      <td>hambre_adolescencia</td>\n",
       "      <td>9.974602e-12</td>\n",
       "      <td>0.125479</td>\n",
       "    </tr>\n",
       "    <tr>\n",
       "      <th>34</th>\n",
       "      <td>afiliacion_salud_2</td>\n",
       "      <td>2.762201e-12</td>\n",
       "      <td>0.128815</td>\n",
       "    </tr>\n",
       "    <tr>\n",
       "      <th>30</th>\n",
       "      <td>alimentacion_2</td>\n",
       "      <td>2.741329e-12</td>\n",
       "      <td>0.128834</td>\n",
       "    </tr>\n",
       "    <tr>\n",
       "      <th>0</th>\n",
       "      <td>utiliza_computador</td>\n",
       "      <td>1.802559e-12</td>\n",
       "      <td>0.129905</td>\n",
       "    </tr>\n",
       "    <tr>\n",
       "      <th>3</th>\n",
       "      <td>resuelve_matematica</td>\n",
       "      <td>1.000743e-12</td>\n",
       "      <td>0.131393</td>\n",
       "    </tr>\n",
       "    <tr>\n",
       "      <th>10</th>\n",
       "      <td>frutas_verduras</td>\n",
       "      <td>3.760740e-13</td>\n",
       "      <td>0.133831</td>\n",
       "    </tr>\n",
       "    <tr>\n",
       "      <th>37</th>\n",
       "      <td>&lt;1SMLV</td>\n",
       "      <td>2.601670e-13</td>\n",
       "      <td>0.134737</td>\n",
       "    </tr>\n",
       "    <tr>\n",
       "      <th>14</th>\n",
       "      <td>artrosis</td>\n",
       "      <td>3.747556e-14</td>\n",
       "      <td>0.139407</td>\n",
       "    </tr>\n",
       "    <tr>\n",
       "      <th>6</th>\n",
       "      <td>eventos_cult_dep</td>\n",
       "      <td>1.970940e-14</td>\n",
       "      <td>0.140921</td>\n",
       "    </tr>\n",
       "    <tr>\n",
       "      <th>1</th>\n",
       "      <td>utiliza_internet</td>\n",
       "      <td>1.846143e-15</td>\n",
       "      <td>0.146364</td>\n",
       "    </tr>\n",
       "    <tr>\n",
       "      <th>31</th>\n",
       "      <td>alimentacion_3</td>\n",
       "      <td>2.234675e-16</td>\n",
       "      <td>0.151051</td>\n",
       "    </tr>\n",
       "    <tr>\n",
       "      <th>38</th>\n",
       "      <td>perc_muy_buena</td>\n",
       "      <td>1.867035e-18</td>\n",
       "      <td>0.161157</td>\n",
       "    </tr>\n",
       "    <tr>\n",
       "      <th>41</th>\n",
       "      <td>perc_mala</td>\n",
       "      <td>3.874222e-21</td>\n",
       "      <td>0.173312</td>\n",
       "    </tr>\n",
       "    <tr>\n",
       "      <th>35</th>\n",
       "      <td>primaria_incompleta</td>\n",
       "      <td>8.653054e-24</td>\n",
       "      <td>0.184509</td>\n",
       "    </tr>\n",
       "    <tr>\n",
       "      <th>40</th>\n",
       "      <td>perc_regular</td>\n",
       "      <td>3.658186e-28</td>\n",
       "      <td>0.201561</td>\n",
       "    </tr>\n",
       "    <tr>\n",
       "      <th>29</th>\n",
       "      <td>comparacion_memoria_3</td>\n",
       "      <td>2.932329e-32</td>\n",
       "      <td>0.216238</td>\n",
       "    </tr>\n",
       "    <tr>\n",
       "      <th>2</th>\n",
       "      <td>sentirse_viejo</td>\n",
       "      <td>1.360319e-32</td>\n",
       "      <td>0.217387</td>\n",
       "    </tr>\n",
       "    <tr>\n",
       "      <th>39</th>\n",
       "      <td>perc_buena</td>\n",
       "      <td>2.623456e-34</td>\n",
       "      <td>0.223189</td>\n",
       "    </tr>\n",
       "    <tr>\n",
       "      <th>18</th>\n",
       "      <td>mem_muy_buena</td>\n",
       "      <td>1.414002e-36</td>\n",
       "      <td>0.230620</td>\n",
       "    </tr>\n",
       "    <tr>\n",
       "      <th>13</th>\n",
       "      <td>problemas_auditivos</td>\n",
       "      <td>2.552434e-45</td>\n",
       "      <td>0.257067</td>\n",
       "    </tr>\n",
       "    <tr>\n",
       "      <th>24</th>\n",
       "      <td>problemas_memoria_2</td>\n",
       "      <td>3.361703e-73</td>\n",
       "      <td>0.325752</td>\n",
       "    </tr>\n",
       "    <tr>\n",
       "      <th>22</th>\n",
       "      <td>mem_muy_mala</td>\n",
       "      <td>1.980882e-97</td>\n",
       "      <td>0.373561</td>\n",
       "    </tr>\n",
       "    <tr>\n",
       "      <th>19</th>\n",
       "      <td>mem_buena</td>\n",
       "      <td>5.664054e-119</td>\n",
       "      <td>0.410170</td>\n",
       "    </tr>\n",
       "    <tr>\n",
       "      <th>20</th>\n",
       "      <td>mem_regular</td>\n",
       "      <td>1.168354e-174</td>\n",
       "      <td>0.487935</td>\n",
       "    </tr>\n",
       "    <tr>\n",
       "      <th>28</th>\n",
       "      <td>comparacion_memoria_2</td>\n",
       "      <td>6.318465e-196</td>\n",
       "      <td>0.513017</td>\n",
       "    </tr>\n",
       "    <tr>\n",
       "      <th>21</th>\n",
       "      <td>mem_mala</td>\n",
       "      <td>6.965020e-245</td>\n",
       "      <td>0.563820</td>\n",
       "    </tr>\n",
       "    <tr>\n",
       "      <th>23</th>\n",
       "      <td>problemas_memoria_1</td>\n",
       "      <td>0.000000e+00</td>\n",
       "      <td>0.643418</td>\n",
       "    </tr>\n",
       "    <tr>\n",
       "      <th>27</th>\n",
       "      <td>comparacion_memoria_1</td>\n",
       "      <td>0.000000e+00</td>\n",
       "      <td>0.666441</td>\n",
       "    </tr>\n",
       "    <tr>\n",
       "      <th>26</th>\n",
       "      <td>problemas_memoria_4</td>\n",
       "      <td>0.000000e+00</td>\n",
       "      <td>0.713622</td>\n",
       "    </tr>\n",
       "  </tbody>\n",
       "</table>\n",
       "</div>"
      ],
      "text/plain": [
       "                   columna        p_value  correlacion\n",
       "16       enfermedad_mental   3.722735e-08     0.101592\n",
       "5         actividad_fisica   7.751117e-09     0.106553\n",
       "8                  lacteos   2.162351e-09     0.110430\n",
       "17       nivel_dependencia   1.882252e-09     0.110843\n",
       "4              pasatiempos   1.676754e-09     0.111187\n",
       "7   beneficiario_col_mayor   1.656228e-09     0.111223\n",
       "33      afiliacion_salud_1   7.950584e-10     0.113378\n",
       "15            osteoporosis   6.620789e-10     0.113909\n",
       "25     problemas_memoria_3   4.613716e-10     0.114950\n",
       "9                    carne   2.143943e-10     0.117130\n",
       "11                 caminar   6.609808e-11     0.120400\n",
       "36           universitario   4.520759e-11     0.121437\n",
       "32  suficiencia_recursos_2   1.665653e-11     0.124122\n",
       "12     hambre_adolescencia   9.974602e-12     0.125479\n",
       "34      afiliacion_salud_2   2.762201e-12     0.128815\n",
       "30          alimentacion_2   2.741329e-12     0.128834\n",
       "0       utiliza_computador   1.802559e-12     0.129905\n",
       "3      resuelve_matematica   1.000743e-12     0.131393\n",
       "10         frutas_verduras   3.760740e-13     0.133831\n",
       "37                  <1SMLV   2.601670e-13     0.134737\n",
       "14                artrosis   3.747556e-14     0.139407\n",
       "6         eventos_cult_dep   1.970940e-14     0.140921\n",
       "1         utiliza_internet   1.846143e-15     0.146364\n",
       "31          alimentacion_3   2.234675e-16     0.151051\n",
       "38          perc_muy_buena   1.867035e-18     0.161157\n",
       "41               perc_mala   3.874222e-21     0.173312\n",
       "35     primaria_incompleta   8.653054e-24     0.184509\n",
       "40            perc_regular   3.658186e-28     0.201561\n",
       "29   comparacion_memoria_3   2.932329e-32     0.216238\n",
       "2           sentirse_viejo   1.360319e-32     0.217387\n",
       "39              perc_buena   2.623456e-34     0.223189\n",
       "18           mem_muy_buena   1.414002e-36     0.230620\n",
       "13     problemas_auditivos   2.552434e-45     0.257067\n",
       "24     problemas_memoria_2   3.361703e-73     0.325752\n",
       "22            mem_muy_mala   1.980882e-97     0.373561\n",
       "19               mem_buena  5.664054e-119     0.410170\n",
       "20             mem_regular  1.168354e-174     0.487935\n",
       "28   comparacion_memoria_2  6.318465e-196     0.513017\n",
       "21                mem_mala  6.965020e-245     0.563820\n",
       "23     problemas_memoria_1   0.000000e+00     0.643418\n",
       "27   comparacion_memoria_1   0.000000e+00     0.666441\n",
       "26     problemas_memoria_4   0.000000e+00     0.713622"
      ]
     },
     "execution_count": 33,
     "metadata": {},
     "output_type": "execute_result"
    }
   ],
   "source": [
    "correlacion_binaria.sort_values(by =['correlacion'],ascending=True)"
   ]
  },
  {
   "cell_type": "code",
   "execution_count": 34,
   "metadata": {},
   "outputs": [
    {
     "data": {
      "text/plain": [
       "(0.08425801209912603, 5.096535942405695e-06)"
      ]
     },
     "execution_count": 34,
     "metadata": {},
     "output_type": "execute_result"
    }
   ],
   "source": [
    "r,p"
   ]
  },
  {
   "cell_type": "code",
   "execution_count": 35,
   "metadata": {},
   "outputs": [
    {
     "data": {
      "text/plain": [
       "180"
      ]
     },
     "execution_count": 35,
     "metadata": {},
     "output_type": "execute_result"
    }
   ],
   "source": [
    "len(cols_cat)"
   ]
  },
  {
   "cell_type": "code",
   "execution_count": 36,
   "metadata": {},
   "outputs": [
    {
     "name": "stdout",
     "output_type": "stream",
     "text": [
      "area_vivienda\n",
      "sexo\n",
      "edad\n",
      "num_personas_hogar\n",
      "grupo_etnico\n",
      "raza\n",
      "sabe_leer\n",
      "sabe_escribir\n",
      "a_educacion\n",
      "ha_trabajado\n",
      "edad_primer_trabajo\n",
      "dependencia_economica\n",
      "habitacion_unica\n",
      "utiliza_computador\n",
      "utiliza_internet\n",
      "sentirse_viejo\n",
      "escribe\n",
      "resuelve_matematica\n",
      "pasatiempos\n",
      "escuchar_radio\n",
      "ver_television\n",
      "juegos_de_mesa\n",
      "manualidades\n",
      "hablar_con_familiares\n",
      "visitar_familiares\n",
      "actividad_fisica\n",
      "asistir_cursos\n",
      "hobbies\n",
      "compras\n",
      "bibliotecas_museos\n",
      "eventos_cult_dep\n",
      "viajar\n",
      "participa_grupos\n",
      "beneficiario_alimentacion\n",
      "beneficiario_col_mayor\n",
      "desplazado\n",
      "comidas_al_dia\n",
      "lacteos\n",
      "granos\n",
      "carne\n",
      "frutas_verduras\n",
      "cons_vino\n",
      "cons_cerveza\n",
      "cons_licor\n",
      "ejercicio\n",
      "caminar\n",
      "economia_familiar\n",
      "salud_adolescencia\n",
      "hambre_adolescencia\n",
      "violencia_adolescencia\n",
      "vision\n",
      "problemas_auditivos\n",
      "rechazo_infancia\n",
      "abuso_gritos\n",
      "abuso_maltrato_fisico\n",
      "abuso_agresion\n",
      "abandono\n",
      "abuso_economico\n",
      "hipertension\n",
      "diabetes\n",
      "cancer\n",
      "asma\n",
      "enfermedad_cardiaca\n",
      "derrame_cerebral\n",
      "artrosis\n",
      "osteoporosis\n",
      "enfermedad_mental\n",
      "hospitalizacion\n",
      "peso\n",
      "talla\n",
      "circunferencia_cintura\n",
      "IMC\n",
      "velocidad_marcha\n",
      "orientacion\n",
      "conteo\n",
      "minimental\n",
      "test_depresion\n",
      "tiene_depresion\n",
      "barthel\n",
      "nivel_dependencia\n",
      "ayuda\n",
      "voluntario\n",
      "escala_memoria\n",
      "fuente_de_agua_1\n",
      "fuente_de_agua_2\n",
      "fuente_de_agua_3\n",
      "fuente_de_agua_4\n",
      "fuente_de_agua_5\n",
      "fuente_de_agua_6\n",
      "fuente_de_agua_7\n",
      "fuente_de_agua_8\n",
      "fuente_de_agua_9\n",
      "fuente_de_agua_10\n",
      "medio_transporte_1\n",
      "medio_transporte_2\n",
      "medio_transporte_3\n",
      "medio_transporte_4\n",
      "medio_transporte_5\n",
      "medio_transporte_6\n",
      "medio_transporte_7\n",
      "medio_transporte_8\n",
      "medio_transporte_9\n",
      "medio_transporte_10\n",
      "medio_transporte_11\n",
      "medio_transporte_12\n",
      "color_piel_0\n",
      "color_piel_1\n",
      "color_piel_2\n",
      "mem_muy_buena\n",
      "mem_buena\n",
      "mem_regular\n",
      "mem_mala\n",
      "mem_muy_mala\n",
      "problemas_memoria_1\n",
      "problemas_memoria_2\n",
      "problemas_memoria_3\n",
      "problemas_memoria_4\n",
      "comparacion_memoria_1\n",
      "comparacion_memoria_2\n",
      "comparacion_memoria_3\n",
      "consumo_cigarrillo_1\n",
      "consumo_cigarrillo_2\n",
      "consumo_cigarrillo_3\n",
      "consumo_cigarrillo_4\n",
      "consumo_alcohol_1\n",
      "consumo_alcohol_2\n",
      "consumo_alcohol_3\n",
      "consumo_alcohol_4\n",
      "consumo_alcohol_5\n",
      "alimentacion_1\n",
      "alimentacion_2\n",
      "alimentacion_3\n",
      "religion_1\n",
      "religion_2\n",
      "religion_3\n",
      "suficiencia_recursos_1\n",
      "suficiencia_recursos_2\n",
      "suficiencia_recursos_3\n",
      "suficiencia_recursos_4\n",
      "afiliacion_salud_1\n",
      "afiliacion_salud_2\n",
      "afiliacion_salud_3\n",
      "afiliacion_salud_4\n",
      "afiliacion_salud_5\n",
      "afiliacion_pension_1\n",
      "afiliacion_pension_2\n",
      "afiliacion_pension_3\n",
      "edu_ninguno\n",
      "primaria_incompleta\n",
      "primaria\n",
      "secundaria_incompleta\n",
      "secundaria\n",
      "tecnico_sin_titulo\n",
      "tecnico\n",
      "universitario_sin_titulo\n",
      "universitario\n",
      "posgrado_sin_titulo\n",
      "posgrado\n",
      "sex_muy_importante\n",
      "sex_importante\n",
      "sex_neutro\n",
      "sex_poco_imp\n",
      "sex_nada_imp\n",
      "<1SMLV\n",
      "1SMLV\n",
      "hasta_1.288\n",
      "hasta_1.933\n",
      "hasta_2.577\n",
      "mas_de_2.577\n",
      "estrato_1\n",
      "estrato_2\n",
      "estrato_3\n",
      "estrato_4\n",
      "estrato_5\n",
      "perc_muy_buena\n",
      "perc_buena\n",
      "perc_regular\n",
      "perc_mala\n",
      "perc_muy mala\n",
      "casado\n",
      "unido\n",
      "separado\n",
      "viudo\n",
      "soltero\n",
      "empleado particular\n",
      "empleado gobierno\n",
      "jornalero\n",
      "Empleador\n",
      "trabajador_independiente\n",
      "trabajador_no_remunerado\n",
      "profesional_independiente\n",
      "trabajador_destajo\n",
      "empleado_domestico\n",
      "muy_sat_ingreso\n",
      "satisfecho_ingreso\n",
      "neutral_ingreso\n",
      "poco_satisfecho_ingreso\n",
      "insatisfecho_ingreso\n",
      "arriendo\n",
      "vivienda propia pagando\n",
      "vivienda propia\n",
      "vivienda en usufructo\n",
      "vivienda en empeño\n",
      "ocupante\n",
      "propiedad_colectiva\n",
      "casa\n",
      "apartamento\n",
      "cuarto inquilinato\n",
      "cuarto\n",
      "otro\n",
      "normal\n",
      "borderline\n"
     ]
    }
   ],
   "source": [
    "for col in df.columns:\n",
    "    print(f'{col}')"
   ]
  },
  {
   "cell_type": "code",
   "execution_count": 37,
   "metadata": {},
   "outputs": [],
   "source": [
    "cols_corr = ['sentirse_viejo', 'perc_buena','problemas_auditivos', 'primaria_incompleta', 'perc_regular','posgrado','posgrado_sin_titulo','hasta_2.577','<1SMLV', 'test_depresion']"
   ]
  },
  {
   "cell_type": "code",
   "execution_count": 38,
   "metadata": {},
   "outputs": [],
   "source": [
    "#cols corr para plots con minimental\n",
    "#cols_corr = ['pasatiempos','primaria_incompleta','resuelve_matematica','utiliza_internet','hasta_2.577','posgrado','consumo_alcohol','suficiencia_recursos','frutas_verduras','ejercicio','utiliza_computador','beneficiario_col_mayor','eventos_cult_dep','sentirse_viejo','actividad_fisica']"
   ]
  },
  {
   "cell_type": "code",
   "execution_count": 39,
   "metadata": {},
   "outputs": [
    {
     "data": {
      "text/plain": [
       "19.0"
      ]
     },
     "execution_count": 39,
     "metadata": {},
     "output_type": "execute_result"
    }
   ],
   "source": [
    "df['minimental'].min()"
   ]
  },
  {
   "cell_type": "code",
   "execution_count": 40,
   "metadata": {},
   "outputs": [
    {
     "data": {
      "text/plain": [
       "<AxesSubplot:xlabel='cons_vino', ylabel='minimental'>"
      ]
     },
     "execution_count": 40,
     "metadata": {},
     "output_type": "execute_result"
    },
    {
     "data": {
      "image/png": "[encoded data removed]",
      "text/plain": [
       "<Figure size 432x288 with 1 Axes>"
      ]
     },
     "metadata": {
      "needs_background": "light"
     },
     "output_type": "display_data"
    }
   ],
   "source": [
    "sns.scatterplot(data=df, x= 'cons_vino',y='minimental', alpha= 0.2)"
   ]
  },
  {
   "cell_type": "code",
   "execution_count": 41,
   "metadata": {},
   "outputs": [
    {
     "data": {
      "text/plain": [
       "<AxesSubplot:xlabel='cons_cerveza', ylabel='minimental'>"
      ]
     },
     "execution_count": 41,
     "metadata": {},
     "output_type": "execute_result"
    },
    {
     "data": {
      "image/png": "[encoded data removed]",
      "text/plain": [
       "<Figure size 432x288 with 1 Axes>"
      ]
     },
     "metadata": {
      "needs_background": "light"
     },
     "output_type": "display_data"
    }
   ],
   "source": [
    "sns.scatterplot(data=df, x= 'cons_cerveza',y='minimental', alpha= 0.2)"
   ]
  },
  {
   "cell_type": "code",
   "execution_count": 42,
   "metadata": {},
   "outputs": [
    {
     "data": {
      "text/plain": [
       "<AxesSubplot:xlabel='cons_licor', ylabel='minimental'>"
      ]
     },
     "execution_count": 42,
     "metadata": {},
     "output_type": "execute_result"
    },
    {
     "data": {
      "image/png": "[encoded data removed]",
      "text/plain": [
       "<Figure size 432x288 with 1 Axes>"
      ]
     },
     "metadata": {
      "needs_background": "light"
     },
     "output_type": "display_data"
    }
   ],
   "source": [
    "sns.scatterplot(data=df, x= 'cons_licor',y='minimental', alpha= 0.2)"
   ]
  },
  {
   "cell_type": "code",
   "execution_count": 43,
   "metadata": {},
   "outputs": [
    {
     "data": {
      "text/plain": [
       "<AxesSubplot:xlabel='test_depresion', ylabel='minimental'>"
      ]
     },
     "execution_count": 43,
     "metadata": {},
     "output_type": "execute_result"
    },
    {
     "data": {
      "image/png": "[encoded data removed]",
      "text/plain": [
       "<Figure size 432x288 with 1 Axes>"
      ]
     },
     "metadata": {
      "needs_background": "light"
     },
     "output_type": "display_data"
    }
   ],
   "source": [
    "sns.lineplot(data=df, x= 'test_depresion',y='minimental', alpha= 0.2)"
   ]
  },
  {
   "cell_type": "code",
   "execution_count": 44,
   "metadata": {},
   "outputs": [
    {
     "data": {
      "text/plain": [
       "<AxesSubplot:xlabel='talla', ylabel='escala_memoria'>"
      ]
     },
     "execution_count": 44,
     "metadata": {},
     "output_type": "execute_result"
    },
    {
     "data": {
      "image/png": "[encoded data removed]",
      "text/plain": [
       "<Figure size 432x288 with 1 Axes>"
      ]
     },
     "metadata": {
      "needs_background": "light"
     },
     "output_type": "display_data"
    }
   ],
   "source": [
    "sns.lineplot(data=df, x= 'talla',y='escala_memoria', alpha= 0.2)\n",
    "#plt.xlim(0,200)"
   ]
  },
  {
   "cell_type": "code",
   "execution_count": 45,
   "metadata": {},
   "outputs": [
    {
     "name": "stdout",
     "output_type": "stream",
     "text": [
      "777\n",
      "777\n"
     ]
    }
   ],
   "source": [
    "#borrar outliers de peso y outliers de talla\n",
    "print(df['peso'].max())\n",
    "print(df['talla'].max())\n",
    "\n",
    "df.drop(df[df['peso']>700].index, axis=0, inplace=True)\n",
    "df.drop(df[df['talla']>700].index, axis=0, inplace=True)"
   ]
  },
  {
   "cell_type": "code",
   "execution_count": 46,
   "metadata": {},
   "outputs": [
    {
     "name": "stdout",
     "output_type": "stream",
     "text": [
      "131\n",
      "189\n"
     ]
    }
   ],
   "source": [
    "print(df['peso'].max())\n",
    "print(df['talla'].max())"
   ]
  },
  {
   "cell_type": "code",
   "execution_count": 47,
   "metadata": {},
   "outputs": [
    {
     "data": {
      "text/plain": [
       "(array([  2.,  89., 446., 672., 538., 522., 341., 114.,  23.,   5.]),\n",
       " array([131. , 136.8, 142.6, 148.4, 154.2, 160. , 165.8, 171.6, 177.4,\n",
       "        183.2, 189. ]),\n",
       " <BarContainer object of 10 artists>)"
      ]
     },
     "execution_count": 47,
     "metadata": {},
     "output_type": "execute_result"
    },
    {
     "data": {
      "image/png": "[encoded data removed]",
      "text/plain": [
       "<Figure size 432x288 with 1 Axes>"
      ]
     },
     "metadata": {
      "needs_background": "light"
     },
     "output_type": "display_data"
    }
   ],
   "source": [
    "plt.hist(df['talla'])"
   ]
  },
  {
   "cell_type": "code",
   "execution_count": 48,
   "metadata": {},
   "outputs": [
    {
     "data": {
      "text/plain": [
       "(array([  2.,  89., 446., 672., 538., 522., 341., 114.,  23.,   5.]),\n",
       " array([131. , 136.8, 142.6, 148.4, 154.2, 160. , 165.8, 171.6, 177.4,\n",
       "        183.2, 189. ]),\n",
       " <BarContainer object of 10 artists>)"
      ]
     },
     "execution_count": 48,
     "metadata": {},
     "output_type": "execute_result"
    },
    {
     "data": {
      "image/png": "[encoded data removed]",
      "text/plain": [
       "<Figure size 432x288 with 1 Axes>"
      ]
     },
     "metadata": {
      "needs_background": "light"
     },
     "output_type": "display_data"
    }
   ],
   "source": [
    "plt.hist(df['talla'])\n"
   ]
  },
  {
   "cell_type": "code",
   "execution_count": 49,
   "metadata": {},
   "outputs": [],
   "source": [
    "df['actividad_fisica'].replace({1:1,2:0}, inplace=True)"
   ]
  },
  {
   "cell_type": "code",
   "execution_count": 50,
   "metadata": {},
   "outputs": [
    {
     "data": {
      "text/plain": [
       "<AxesSubplot:xlabel='escala_memoria', ylabel='test_depresion'>"
      ]
     },
     "execution_count": 50,
     "metadata": {},
     "output_type": "execute_result"
    },
    {
     "data": {
      "image/png": "[encoded data removed]",
      "text/plain": [
       "<Figure size 432x288 with 1 Axes>"
      ]
     },
     "metadata": {
      "needs_background": "light"
     },
     "output_type": "display_data"
    }
   ],
   "source": [
    "sns.lineplot(data = df, y= 'test_depresion', x= 'escala_memoria')"
   ]
  },
  {
   "cell_type": "code",
   "execution_count": 51,
   "metadata": {},
   "outputs": [
    {
     "data": {
      "text/plain": [
       "<AxesSubplot:xlabel='escala_memoria', ylabel='minimental'>"
      ]
     },
     "execution_count": 51,
     "metadata": {},
     "output_type": "execute_result"
    },
    {
     "data": {
      "image/png": "[encoded data removed]",
      "text/plain": [
       "<Figure size 432x288 with 1 Axes>"
      ]
     },
     "metadata": {
      "needs_background": "light"
     },
     "output_type": "display_data"
    }
   ],
   "source": [
    "sns.lineplot(data = df, y= 'minimental', x= 'escala_memoria')"
   ]
  },
  {
   "cell_type": "code",
   "execution_count": 52,
   "metadata": {},
   "outputs": [
    {
     "data": {
      "image/png": "[encoded data removed]",
      "text/plain": [
       "<Figure size 2880x7200 with 10 Axes>"
      ]
     },
     "metadata": {
      "needs_background": "light"
     },
     "output_type": "display_data"
    }
   ],
   "source": [
    "plt.figure(figsize=(40,100))\n",
    "for i, col in enumerate(cols_corr):\n",
    "    plt.subplot(24,5 , i+1)\n",
    "    sns.boxplot(data = df, y= 'escala_memoria', x= col)\n",
    "    #sns.stripplot(x=col, y='escala_memoria', data=df, alpha = 0.2, color = 'black')\n",
    "    # display plot\n",
    "   # plt.show()\n",
    "    plt.legend('', frameon = False)\n",
    "\n",
    "        "
   ]
  },
  {
   "cell_type": "code",
   "execution_count": 53,
   "metadata": {},
   "outputs": [
    {
     "data": {
      "text/plain": [
       "<AxesSubplot:xlabel='sexo', ylabel='Count'>"
      ]
     },
     "execution_count": 53,
     "metadata": {},
     "output_type": "execute_result"
    },
    {
     "data": {
      "image/png": "[encoded data removed]",
      "text/plain": [
       "<Figure size 432x288 with 1 Axes>"
      ]
     },
     "metadata": {
      "needs_background": "light"
     },
     "output_type": "display_data"
    }
   ],
   "source": [
    "sns.histplot(data=df, x = 'sexo')"
   ]
  },
  {
   "cell_type": "code",
   "execution_count": 54,
   "metadata": {},
   "outputs": [
    {
     "name": "stdout",
     "output_type": "stream",
     "text": [
      "16.92447679708826\n"
     ]
    }
   ],
   "source": [
    "#mujeres con depresion\n",
    "mujeres = len(df.query('sexo ==1'))\n",
    "mujeres_depresion = len(df.query('sexo == 1 and test_depresion >18'))\n",
    "porc_muj_depresion = mujeres_depresion*100/mujeres\n",
    "print(porc_muj_depresion)\n"
   ]
  },
  {
   "cell_type": "code",
   "execution_count": 55,
   "metadata": {},
   "outputs": [
    {
     "name": "stdout",
     "output_type": "stream",
     "text": [
      "1099 186\n",
      "913\n"
     ]
    }
   ],
   "source": [
    "print(mujeres,mujeres_depresion)\n",
    "print(mujeres-mujeres_depresion)"
   ]
  },
  {
   "cell_type": "code",
   "execution_count": 56,
   "metadata": {},
   "outputs": [
    {
     "name": "stdout",
     "output_type": "stream",
     "text": [
      "16.999395039322444\n"
     ]
    }
   ],
   "source": [
    "hombres = len(df.query('sexo ==2'))\n",
    "hombres_depresion = len(df.query('sexo == 2 and test_depresion>18'))\n",
    "porc_hom_depresion = hombres_depresion*100/hombres\n",
    "print(porc_hom_depresion)"
   ]
  },
  {
   "cell_type": "code",
   "execution_count": 57,
   "metadata": {},
   "outputs": [
    {
     "name": "stdout",
     "output_type": "stream",
     "text": [
      "1653 281\n",
      "1372\n"
     ]
    }
   ],
   "source": [
    "print(hombres,hombres_depresion)\n",
    "print(hombres-hombres_depresion)"
   ]
  },
  {
   "cell_type": "code",
   "execution_count": 58,
   "metadata": {},
   "outputs": [
    {
     "name": "stdout",
     "output_type": "stream",
     "text": [
      "44.88808227465215\n"
     ]
    }
   ],
   "source": [
    "#mujeres con mild depresion\n",
    "mujeres_mild_depresion = len(df.query('sexo == 1 and test_depresion < 18'))\n",
    "porc_muj_mild_depresion = mujeres_mild_depresion*100/hombres\n",
    "print(porc_muj_mild_depresion)"
   ]
  },
  {
   "cell_type": "code",
   "execution_count": 59,
   "metadata": {},
   "outputs": [
    {
     "name": "stdout",
     "output_type": "stream",
     "text": [
      "742\n"
     ]
    }
   ],
   "source": [
    "print(mujeres_mild_depresion)"
   ]
  },
  {
   "cell_type": "code",
   "execution_count": 60,
   "metadata": {},
   "outputs": [
    {
     "name": "stdout",
     "output_type": "stream",
     "text": [
      "67.99758015728978\n"
     ]
    }
   ],
   "source": [
    "hombres_mild_depresion = len(df.query('sexo == 2 and test_depresion <18'))\n",
    "porc_hom_mild_depresion = hombres_mild_depresion*100/hombres\n",
    "print(porc_hom_mild_depresion)"
   ]
  },
  {
   "cell_type": "code",
   "execution_count": 61,
   "metadata": {},
   "outputs": [
    {
     "name": "stdout",
     "output_type": "stream",
     "text": [
      "1124\n"
     ]
    }
   ],
   "source": [
    "print(hombres_mild_depresion)"
   ]
  },
  {
   "cell_type": "code",
   "execution_count": 62,
   "metadata": {},
   "outputs": [
    {
     "data": {
      "text/plain": [
       "(0.0, 20.0)"
      ]
     },
     "execution_count": 62,
     "metadata": {},
     "output_type": "execute_result"
    },
    {
     "data": {
      "image/png": "[encoded data removed]",
      "text/plain": [
       "<Figure size 432x288 with 1 Axes>"
      ]
     },
     "metadata": {
      "needs_background": "light"
     },
     "output_type": "display_data"
    }
   ],
   "source": [
    "sns.histplot(data= df, x = 'a_educacion', binwidth = 0.5)\n",
    "plt.xlim(0,20)"
   ]
  },
  {
   "cell_type": "code",
   "execution_count": 63,
   "metadata": {},
   "outputs": [
    {
     "data": {
      "text/plain": [
       "<AxesSubplot:xlabel='nivel_dependencia', ylabel='Count'>"
      ]
     },
     "execution_count": 63,
     "metadata": {},
     "output_type": "execute_result"
    },
    {
     "data": {
      "image/png": "[encoded data removed]",
      "text/plain": [
       "<Figure size 432x288 with 1 Axes>"
      ]
     },
     "metadata": {
      "needs_background": "light"
     },
     "output_type": "display_data"
    }
   ],
   "source": [
    "sns.histplot(data= df, x = 'nivel_dependencia', binwidth = 0.5)"
   ]
  },
  {
   "cell_type": "code",
   "execution_count": 64,
   "metadata": {},
   "outputs": [
    {
     "data": {
      "text/plain": [
       "0"
      ]
     },
     "execution_count": 64,
     "metadata": {},
     "output_type": "execute_result"
    }
   ],
   "source": [
    "len(df.query('nivel_dependencia ==3'))"
   ]
  },
  {
   "cell_type": "code",
   "execution_count": 65,
   "metadata": {},
   "outputs": [
    {
     "data": {
      "text/plain": [
       "<AxesSubplot:xlabel='escala_memoria', ylabel='Count'>"
      ]
     },
     "execution_count": 65,
     "metadata": {},
     "output_type": "execute_result"
    },
    {
     "data": {
      "image/png": "[encoded data removed]",
      "text/plain": [
       "<Figure size 432x288 with 1 Axes>"
      ]
     },
     "metadata": {
      "needs_background": "light"
     },
     "output_type": "display_data"
    }
   ],
   "source": [
    "sns.histplot(data= df, x = 'escala_memoria', hue= 'sexo')"
   ]
  },
  {
   "cell_type": "code",
   "execution_count": 66,
   "metadata": {},
   "outputs": [
    {
     "data": {
      "text/plain": [
       "<AxesSubplot:xlabel='sexo', ylabel='Count'>"
      ]
     },
     "execution_count": 66,
     "metadata": {},
     "output_type": "execute_result"
    },
    {
     "data": {
      "image/png": "[encoded data removed]",
      "text/plain": [
       "<Figure size 432x288 with 1 Axes>"
      ]
     },
     "metadata": {
      "needs_background": "light"
     },
     "output_type": "display_data"
    }
   ],
   "source": [
    "sns.histplot(data= df, x = 'sexo')"
   ]
  },
  {
   "cell_type": "code",
   "execution_count": 67,
   "metadata": {},
   "outputs": [
    {
     "data": {
      "text/plain": [
       "<AxesSubplot:xlabel='test_depresion', ylabel='Count'>"
      ]
     },
     "execution_count": 67,
     "metadata": {},
     "output_type": "execute_result"
    },
    {
     "data": {
      "image/png": "[encoded data removed]",
      "text/plain": [
       "<Figure size 432x288 with 1 Axes>"
      ]
     },
     "metadata": {
      "needs_background": "light"
     },
     "output_type": "display_data"
    }
   ],
   "source": [
    "sns.histplot(data= df, x = 'test_depresion', hue= 'sexo')"
   ]
  },
  {
   "cell_type": "code",
   "execution_count": 68,
   "metadata": {},
   "outputs": [
    {
     "name": "stderr",
     "output_type": "stream",
     "text": [
      "c:\\Users\\vaorc\\anaconda3\\lib\\site-packages\\scipy\\stats\\stats.py:4023: PearsonRConstantInputWarning: An input array is constant; the correlation coefficient is not defined.\n",
      "  warnings.warn(PearsonRConstantInputWarning())\n"
     ]
    }
   ],
   "source": [
    "#Correlacion con escala_memoria de variables numericas: \n",
    "corr = []\n",
    "columna = []\n",
    "p_val = []\n",
    "for col in cols_num:\n",
    "    r, p = stats.pearsonr(df['minimental'], df[col])\n",
    "    r = abs(r)\n",
    "    if (p< 0.05):\n",
    "        columna.append(col)\n",
    "        p_val.append(p)\n",
    "        corr.append(r)"
   ]
  },
  {
   "cell_type": "code",
   "execution_count": 69,
   "metadata": {},
   "outputs": [],
   "source": [
    "r, p = stats.pearsonr(df['minimental'], df['cons_vino'])"
   ]
  },
  {
   "cell_type": "code",
   "execution_count": 70,
   "metadata": {},
   "outputs": [
    {
     "data": {
      "text/plain": [
       "(0.02318519614503429, 0.22402498026014964)"
      ]
     },
     "execution_count": 70,
     "metadata": {},
     "output_type": "execute_result"
    }
   ],
   "source": [
    "r,p"
   ]
  },
  {
   "cell_type": "code",
   "execution_count": 71,
   "metadata": {},
   "outputs": [],
   "source": [
    "correlacion_pearson = pd.DataFrame(list(zip(columna,p_val,corr)), columns=['columna','p_value','correlacion'])"
   ]
  },
  {
   "cell_type": "code",
   "execution_count": 72,
   "metadata": {},
   "outputs": [
    {
     "data": {
      "text/html": [
       "<div>\n",
       "<style scoped>\n",
       "    .dataframe tbody tr th:only-of-type {\n",
       "        vertical-align: middle;\n",
       "    }\n",
       "\n",
       "    .dataframe tbody tr th {\n",
       "        vertical-align: top;\n",
       "    }\n",
       "\n",
       "    .dataframe thead th {\n",
       "        text-align: right;\n",
       "    }\n",
       "</style>\n",
       "<table border=\"1\" class=\"dataframe\">\n",
       "  <thead>\n",
       "    <tr style=\"text-align: right;\">\n",
       "      <th></th>\n",
       "      <th>columna</th>\n",
       "      <th>p_value</th>\n",
       "      <th>correlacion</th>\n",
       "    </tr>\n",
       "  </thead>\n",
       "  <tbody>\n",
       "    <tr>\n",
       "      <th>6</th>\n",
       "      <td>abandono</td>\n",
       "      <td>3.093318e-02</td>\n",
       "      <td>0.041136</td>\n",
       "    </tr>\n",
       "    <tr>\n",
       "      <th>4</th>\n",
       "      <td>cons_cerveza</td>\n",
       "      <td>3.084936e-02</td>\n",
       "      <td>0.041157</td>\n",
       "    </tr>\n",
       "    <tr>\n",
       "      <th>2</th>\n",
       "      <td>raza</td>\n",
       "      <td>2.390255e-02</td>\n",
       "      <td>0.043056</td>\n",
       "    </tr>\n",
       "    <tr>\n",
       "      <th>8</th>\n",
       "      <td>IMC</td>\n",
       "      <td>9.425420e-03</td>\n",
       "      <td>0.049482</td>\n",
       "    </tr>\n",
       "    <tr>\n",
       "      <th>1</th>\n",
       "      <td>num_personas_hogar</td>\n",
       "      <td>1.945289e-03</td>\n",
       "      <td>0.059039</td>\n",
       "    </tr>\n",
       "    <tr>\n",
       "      <th>7</th>\n",
       "      <td>peso</td>\n",
       "      <td>7.119786e-04</td>\n",
       "      <td>0.064487</td>\n",
       "    </tr>\n",
       "    <tr>\n",
       "      <th>5</th>\n",
       "      <td>vision</td>\n",
       "      <td>6.997639e-06</td>\n",
       "      <td>0.085543</td>\n",
       "    </tr>\n",
       "    <tr>\n",
       "      <th>9</th>\n",
       "      <td>velocidad_marcha</td>\n",
       "      <td>9.167082e-10</td>\n",
       "      <td>0.116380</td>\n",
       "    </tr>\n",
       "    <tr>\n",
       "      <th>13</th>\n",
       "      <td>barthel</td>\n",
       "      <td>7.833457e-10</td>\n",
       "      <td>0.116852</td>\n",
       "    </tr>\n",
       "    <tr>\n",
       "      <th>14</th>\n",
       "      <td>escala_memoria</td>\n",
       "      <td>1.073909e-12</td>\n",
       "      <td>0.135175</td>\n",
       "    </tr>\n",
       "    <tr>\n",
       "      <th>0</th>\n",
       "      <td>edad</td>\n",
       "      <td>1.290942e-23</td>\n",
       "      <td>0.189294</td>\n",
       "    </tr>\n",
       "    <tr>\n",
       "      <th>3</th>\n",
       "      <td>a_educacion</td>\n",
       "      <td>1.109817e-23</td>\n",
       "      <td>0.189571</td>\n",
       "    </tr>\n",
       "    <tr>\n",
       "      <th>10</th>\n",
       "      <td>orientacion</td>\n",
       "      <td>1.723367e-74</td>\n",
       "      <td>0.337940</td>\n",
       "    </tr>\n",
       "    <tr>\n",
       "      <th>11</th>\n",
       "      <td>conteo</td>\n",
       "      <td>0.000000e+00</td>\n",
       "      <td>0.771747</td>\n",
       "    </tr>\n",
       "    <tr>\n",
       "      <th>12</th>\n",
       "      <td>minimental</td>\n",
       "      <td>0.000000e+00</td>\n",
       "      <td>1.000000</td>\n",
       "    </tr>\n",
       "  </tbody>\n",
       "</table>\n",
       "</div>"
      ],
      "text/plain": [
       "               columna       p_value  correlacion\n",
       "6             abandono  3.093318e-02     0.041136\n",
       "4         cons_cerveza  3.084936e-02     0.041157\n",
       "2                 raza  2.390255e-02     0.043056\n",
       "8                  IMC  9.425420e-03     0.049482\n",
       "1   num_personas_hogar  1.945289e-03     0.059039\n",
       "7                 peso  7.119786e-04     0.064487\n",
       "5               vision  6.997639e-06     0.085543\n",
       "9     velocidad_marcha  9.167082e-10     0.116380\n",
       "13             barthel  7.833457e-10     0.116852\n",
       "14      escala_memoria  1.073909e-12     0.135175\n",
       "0                 edad  1.290942e-23     0.189294\n",
       "3          a_educacion  1.109817e-23     0.189571\n",
       "10         orientacion  1.723367e-74     0.337940\n",
       "11              conteo  0.000000e+00     0.771747\n",
       "12          minimental  0.000000e+00     1.000000"
      ]
     },
     "execution_count": 72,
     "metadata": {},
     "output_type": "execute_result"
    }
   ],
   "source": [
    "correlacion_pearson.sort_values(by =['correlacion'],ascending=True)"
   ]
  },
  {
   "cell_type": "code",
   "execution_count": 73,
   "metadata": {},
   "outputs": [],
   "source": [
    "cols_corr = ['vision','minimental','a_educacion','edad','peso']"
   ]
  },
  {
   "cell_type": "code",
   "execution_count": 74,
   "metadata": {},
   "outputs": [
    {
     "data": {
      "image/png": "[encoded data removed]",
      "text/plain": [
       "<Figure size 2880x7200 with 5 Axes>"
      ]
     },
     "metadata": {
      "needs_background": "light"
     },
     "output_type": "display_data"
    }
   ],
   "source": [
    "plt.figure(figsize=(40,100))\n",
    "for i, col in enumerate(cols_corr):\n",
    "    plt.subplot(24,5 , i+1)\n",
    "    sns.scatterplot(data = df, y= 'escala_memoria', x= col, alpha= 0.1)\n",
    "    plt.legend('', frameon = False)"
   ]
  },
  {
   "cell_type": "markdown",
   "metadata": {},
   "source": [
    "## Variable coherencia"
   ]
  },
  {
   "cell_type": "code",
   "execution_count": 75,
   "metadata": {},
   "outputs": [],
   "source": [
    "#normalizamos variables numericas\n",
    "df['minimental_norm'] = (df['minimental']-df['minimental'].min())/(df['minimental'].max()-df['minimental'].min())\n",
    "df['escala_memoria_norm'] = (df['escala_memoria']-df['escala_memoria'].min())/(df['escala_memoria'].max()-df['escala_memoria'].min())\n"
   ]
  },
  {
   "cell_type": "code",
   "execution_count": 76,
   "metadata": {},
   "outputs": [],
   "source": [
    "df['coherencia'] = df['minimental_norm']-df['escala_memoria_norm']"
   ]
  },
  {
   "cell_type": "code",
   "execution_count": 77,
   "metadata": {},
   "outputs": [
    {
     "data": {
      "image/png": "[encoded data removed]",
      "text/plain": [
       "<Figure size 432x288 with 1 Axes>"
      ]
     },
     "metadata": {
      "needs_background": "light"
     },
     "output_type": "display_data"
    }
   ],
   "source": [
    "sns.histplot(data= df , x = 'coherencia', binwidth= 0.2, hue= 'tiene_depresion')\n",
    "plt.show()\n",
    "# 0 -> coherente\n",
    "# - -> sobre estima su memoria\n",
    "# + -> subestima su memoria"
   ]
  },
  {
   "cell_type": "code",
   "execution_count": 78,
   "metadata": {},
   "outputs": [
    {
     "data": {
      "text/plain": [
       "1535"
      ]
     },
     "execution_count": 78,
     "metadata": {},
     "output_type": "execute_result"
    }
   ],
   "source": [
    "len(df.query('-0.25 <=coherencia <= 0.25'))"
   ]
  },
  {
   "cell_type": "code",
   "execution_count": 79,
   "metadata": {},
   "outputs": [],
   "source": [
    "# coherencia en una unica dirección\n",
    "# cambiando la dirección -> mayor número mayor coherencia/menor numero incoherente\n",
    "df['coherencia_unica'] = 1 - abs(df['coherencia'])"
   ]
  },
  {
   "cell_type": "code",
   "execution_count": 80,
   "metadata": {},
   "outputs": [
    {
     "data": {
      "image/png": "[encoded data removed]",
      "text/plain": [
       "<Figure size 432x288 with 1 Axes>"
      ]
     },
     "metadata": {
      "needs_background": "light"
     },
     "output_type": "display_data"
    }
   ],
   "source": [
    "sns.histplot(data= df , x = 'coherencia', binwidth= 0.2)\n",
    "plt.show()"
   ]
  },
  {
   "cell_type": "code",
   "execution_count": 81,
   "metadata": {},
   "outputs": [
    {
     "data": {
      "image/png": "[encoded data removed]",
      "text/plain": [
       "<Figure size 432x288 with 1 Axes>"
      ]
     },
     "metadata": {
      "needs_background": "light"
     },
     "output_type": "display_data"
    }
   ],
   "source": [
    "sns.scatterplot(data= df , x = 'coherencia', y='a_educacion', hue= 'tiene_depresion')\n",
    "plt.show()"
   ]
  },
  {
   "cell_type": "code",
   "execution_count": 82,
   "metadata": {},
   "outputs": [
    {
     "name": "stdout",
     "output_type": "stream",
     "text": [
      "6.551410373066424\n"
     ]
    }
   ],
   "source": [
    "# - -> sobre estima su memoria\n",
    "mujer_sobre_estima = len(df.query('coherencia<-0.2 and sexo== 1'))\n",
    "procentaje_mujer_sobrestima = mujer_sobre_estima*100/len(df.query('sexo ==1'))\n",
    "print(procentaje_mujer_sobrestima)\n"
   ]
  },
  {
   "cell_type": "code",
   "execution_count": 83,
   "metadata": {},
   "outputs": [
    {
     "name": "stdout",
     "output_type": "stream",
     "text": [
      "5.686630369026013\n"
     ]
    }
   ],
   "source": [
    "hombre_sobre_estima = len(df.query('coherencia<-0.2 and sexo== 2'))\n",
    "procentaje_hombre_sobrestima = hombre_sobre_estima*100/len(df.query('sexo ==2'))\n",
    "print(procentaje_hombre_sobrestima)\n"
   ]
  },
  {
   "cell_type": "code",
   "execution_count": 84,
   "metadata": {},
   "outputs": [
    {
     "name": "stdout",
     "output_type": "stream",
     "text": [
      "50.04549590536852\n"
     ]
    }
   ],
   "source": [
    "# + -> subestima su memoria\n",
    "mujer_subestima = len(df.query('coherencia>0.2 and sexo== 1'))\n",
    "procentaje_mujer_subestima = mujer_subestima*100/len(df.query('sexo ==1'))\n",
    "print(procentaje_mujer_subestima)"
   ]
  },
  {
   "cell_type": "code",
   "execution_count": 85,
   "metadata": {},
   "outputs": [
    {
     "name": "stdout",
     "output_type": "stream",
     "text": [
      "53.96249243799153\n"
     ]
    }
   ],
   "source": [
    "# + -> subestima su memoria\n",
    "hombre_subestima = len(df.query('coherencia>0.2 and sexo== 2'))\n",
    "procentaje_hombre_subestima = hombre_subestima*100/len(df.query('sexo ==2'))\n",
    "print(procentaje_hombre_subestima)"
   ]
  },
  {
   "cell_type": "code",
   "execution_count": 86,
   "metadata": {},
   "outputs": [
    {
     "data": {
      "text/plain": [
       "7"
      ]
     },
     "execution_count": 86,
     "metadata": {},
     "output_type": "execute_result"
    }
   ],
   "source": [
    "#coherente 100%\n",
    "len(df.query('coherencia==0'))"
   ]
  },
  {
   "cell_type": "code",
   "execution_count": 87,
   "metadata": {},
   "outputs": [
    {
     "data": {
      "text/plain": [
       "1144"
      ]
     },
     "execution_count": 87,
     "metadata": {},
     "output_type": "execute_result"
    }
   ],
   "source": [
    "#coherente-ish\n",
    "len(df.query(\"coherencia>= -0.2 and `coherencia`<=0.2\"))"
   ]
  },
  {
   "cell_type": "code",
   "execution_count": 88,
   "metadata": {},
   "outputs": [],
   "source": [
    "#eliminar filas sabe leer y sabe escribir porque 100% de las personas respondieron de forma afirmativa\n",
    "df.drop(df[['sabe_escribir','sabe_leer','ha_trabajado']], axis=1, inplace=True)"
   ]
  },
  {
   "cell_type": "code",
   "execution_count": 89,
   "metadata": {},
   "outputs": [
    {
     "data": {
      "text/plain": [
       "area_vivienda          None\n",
       "sexo                   None\n",
       "edad                   None\n",
       "num_personas_hogar     None\n",
       "grupo_etnico           None\n",
       "                       ... \n",
       "borderline             None\n",
       "minimental_norm        None\n",
       "escala_memoria_norm    None\n",
       "coherencia             None\n",
       "coherencia_unica       None\n",
       "Length: 213, dtype: object"
      ]
     },
     "execution_count": 89,
     "metadata": {},
     "output_type": "execute_result"
    }
   ],
   "source": [
    "#reemplazar espacios en blanco y renombrar cols con simbolos no permitidos para XGBoost\n",
    "df.rename(columns={'<1SMLV':'mas_de_1SMLV'}, inplace=True)\n",
    "df.replace({'','_'}, inplace= True)"
   ]
  },
  {
   "cell_type": "code",
   "execution_count": 90,
   "metadata": {},
   "outputs": [],
   "source": [
    "#guardar nuevo dataset con variable coherencia\n",
    "df.to_csv('dataset_coherencia.csv', index=False, header=True)"
   ]
  },
  {
   "cell_type": "code",
   "execution_count": 91,
   "metadata": {},
   "outputs": [],
   "source": [
    "df_coherencia = pd.read_csv('dataset_coherencia.csv')"
   ]
  },
  {
   "cell_type": "code",
   "execution_count": 92,
   "metadata": {},
   "outputs": [
    {
     "data": {
      "text/html": [
       "<div>\n",
       "<style scoped>\n",
       "    .dataframe tbody tr th:only-of-type {\n",
       "        vertical-align: middle;\n",
       "    }\n",
       "\n",
       "    .dataframe tbody tr th {\n",
       "        vertical-align: top;\n",
       "    }\n",
       "\n",
       "    .dataframe thead th {\n",
       "        text-align: right;\n",
       "    }\n",
       "</style>\n",
       "<table border=\"1\" class=\"dataframe\">\n",
       "  <thead>\n",
       "    <tr style=\"text-align: right;\">\n",
       "      <th></th>\n",
       "      <th>area_vivienda</th>\n",
       "      <th>sexo</th>\n",
       "      <th>edad</th>\n",
       "      <th>num_personas_hogar</th>\n",
       "      <th>grupo_etnico</th>\n",
       "      <th>raza</th>\n",
       "      <th>a_educacion</th>\n",
       "      <th>edad_primer_trabajo</th>\n",
       "      <th>dependencia_economica</th>\n",
       "      <th>habitacion_unica</th>\n",
       "      <th>...</th>\n",
       "      <th>apartamento</th>\n",
       "      <th>cuarto inquilinato</th>\n",
       "      <th>cuarto</th>\n",
       "      <th>otro</th>\n",
       "      <th>normal</th>\n",
       "      <th>borderline</th>\n",
       "      <th>minimental_norm</th>\n",
       "      <th>escala_memoria_norm</th>\n",
       "      <th>coherencia</th>\n",
       "      <th>coherencia_unica</th>\n",
       "    </tr>\n",
       "  </thead>\n",
       "  <tbody>\n",
       "    <tr>\n",
       "      <th>0</th>\n",
       "      <td>1</td>\n",
       "      <td>1</td>\n",
       "      <td>66</td>\n",
       "      <td>7</td>\n",
       "      <td>6</td>\n",
       "      <td>5</td>\n",
       "      <td>2</td>\n",
       "      <td>15</td>\n",
       "      <td>1</td>\n",
       "      <td>1</td>\n",
       "      <td>...</td>\n",
       "      <td>0</td>\n",
       "      <td>0</td>\n",
       "      <td>0</td>\n",
       "      <td>0</td>\n",
       "      <td>1</td>\n",
       "      <td>0</td>\n",
       "      <td>0.8</td>\n",
       "      <td>0.000000</td>\n",
       "      <td>0.800000</td>\n",
       "      <td>0.200000</td>\n",
       "    </tr>\n",
       "    <tr>\n",
       "      <th>1</th>\n",
       "      <td>1</td>\n",
       "      <td>2</td>\n",
       "      <td>62</td>\n",
       "      <td>7</td>\n",
       "      <td>6</td>\n",
       "      <td>4</td>\n",
       "      <td>5</td>\n",
       "      <td>13</td>\n",
       "      <td>1</td>\n",
       "      <td>1</td>\n",
       "      <td>...</td>\n",
       "      <td>0</td>\n",
       "      <td>0</td>\n",
       "      <td>0</td>\n",
       "      <td>0</td>\n",
       "      <td>1</td>\n",
       "      <td>0</td>\n",
       "      <td>0.5</td>\n",
       "      <td>0.777778</td>\n",
       "      <td>-0.277778</td>\n",
       "      <td>0.722222</td>\n",
       "    </tr>\n",
       "    <tr>\n",
       "      <th>2</th>\n",
       "      <td>1</td>\n",
       "      <td>2</td>\n",
       "      <td>66</td>\n",
       "      <td>3</td>\n",
       "      <td>1</td>\n",
       "      <td>5</td>\n",
       "      <td>7</td>\n",
       "      <td>20</td>\n",
       "      <td>1</td>\n",
       "      <td>1</td>\n",
       "      <td>...</td>\n",
       "      <td>0</td>\n",
       "      <td>0</td>\n",
       "      <td>0</td>\n",
       "      <td>0</td>\n",
       "      <td>1</td>\n",
       "      <td>0</td>\n",
       "      <td>0.9</td>\n",
       "      <td>0.222222</td>\n",
       "      <td>0.677778</td>\n",
       "      <td>0.322222</td>\n",
       "    </tr>\n",
       "    <tr>\n",
       "      <th>3</th>\n",
       "      <td>1</td>\n",
       "      <td>1</td>\n",
       "      <td>61</td>\n",
       "      <td>2</td>\n",
       "      <td>6</td>\n",
       "      <td>5</td>\n",
       "      <td>11</td>\n",
       "      <td>12</td>\n",
       "      <td>1</td>\n",
       "      <td>1</td>\n",
       "      <td>...</td>\n",
       "      <td>1</td>\n",
       "      <td>0</td>\n",
       "      <td>0</td>\n",
       "      <td>0</td>\n",
       "      <td>1</td>\n",
       "      <td>0</td>\n",
       "      <td>1.0</td>\n",
       "      <td>0.333333</td>\n",
       "      <td>0.666667</td>\n",
       "      <td>0.333333</td>\n",
       "    </tr>\n",
       "    <tr>\n",
       "      <th>4</th>\n",
       "      <td>1</td>\n",
       "      <td>2</td>\n",
       "      <td>75</td>\n",
       "      <td>2</td>\n",
       "      <td>6</td>\n",
       "      <td>5</td>\n",
       "      <td>6</td>\n",
       "      <td>22</td>\n",
       "      <td>1</td>\n",
       "      <td>1</td>\n",
       "      <td>...</td>\n",
       "      <td>1</td>\n",
       "      <td>0</td>\n",
       "      <td>0</td>\n",
       "      <td>0</td>\n",
       "      <td>1</td>\n",
       "      <td>0</td>\n",
       "      <td>1.0</td>\n",
       "      <td>0.444444</td>\n",
       "      <td>0.555556</td>\n",
       "      <td>0.444444</td>\n",
       "    </tr>\n",
       "  </tbody>\n",
       "</table>\n",
       "<p>5 rows × 213 columns</p>\n",
       "</div>"
      ],
      "text/plain": [
       "   area_vivienda  sexo  edad  num_personas_hogar  grupo_etnico  raza  \\\n",
       "0              1     1    66                   7             6     5   \n",
       "1              1     2    62                   7             6     4   \n",
       "2              1     2    66                   3             1     5   \n",
       "3              1     1    61                   2             6     5   \n",
       "4              1     2    75                   2             6     5   \n",
       "\n",
       "   a_educacion  edad_primer_trabajo  dependencia_economica  habitacion_unica  \\\n",
       "0            2                   15                      1                 1   \n",
       "1            5                   13                      1                 1   \n",
       "2            7                   20                      1                 1   \n",
       "3           11                   12                      1                 1   \n",
       "4            6                   22                      1                 1   \n",
       "\n",
       "   ...  apartamento  cuarto inquilinato  cuarto  otro  normal  borderline  \\\n",
       "0  ...            0                   0       0     0       1           0   \n",
       "1  ...            0                   0       0     0       1           0   \n",
       "2  ...            0                   0       0     0       1           0   \n",
       "3  ...            1                   0       0     0       1           0   \n",
       "4  ...            1                   0       0     0       1           0   \n",
       "\n",
       "   minimental_norm  escala_memoria_norm  coherencia  coherencia_unica  \n",
       "0              0.8             0.000000    0.800000          0.200000  \n",
       "1              0.5             0.777778   -0.277778          0.722222  \n",
       "2              0.9             0.222222    0.677778          0.322222  \n",
       "3              1.0             0.333333    0.666667          0.333333  \n",
       "4              1.0             0.444444    0.555556          0.444444  \n",
       "\n",
       "[5 rows x 213 columns]"
      ]
     },
     "execution_count": 92,
     "metadata": {},
     "output_type": "execute_result"
    }
   ],
   "source": [
    "df_coherencia.head()"
   ]
  },
  {
   "cell_type": "markdown",
   "metadata": {},
   "source": [
    "## Crear DATASET para categorización coherente/incoherente"
   ]
  },
  {
   "cell_type": "code",
   "execution_count": 93,
   "metadata": {},
   "outputs": [],
   "source": [
    "df_coherencia = pd.read_csv('dataset_coherencia.csv')"
   ]
  },
  {
   "cell_type": "code",
   "execution_count": 94,
   "metadata": {},
   "outputs": [],
   "source": [
    "def categoria_coherencia(valor):\n",
    "    if -0.25 <= valor and valor <=0.25:\n",
    "        return 'coherente' \n",
    "    else:\n",
    "        return 'incoherente'"
   ]
  },
  {
   "cell_type": "code",
   "execution_count": 95,
   "metadata": {},
   "outputs": [
    {
     "data": {
      "text/plain": [
       "\"def categoria_coherencia(valor):\\n    if -0.25 <= valor and valor <=0.25:\\n        return 'coherente' \\n    elif valor > 0.25: \\n        return 'subestima'\\n    elif  valor < -0.25:\\n        return 'sobre estima'\\n    else:\\n        print(4, valor)\""
      ]
     },
     "execution_count": 95,
     "metadata": {},
     "output_type": "execute_result"
    }
   ],
   "source": [
    "\"\"\"def categoria_coherencia(valor):\n",
    "    if -0.25 <= valor and valor <=0.25:\n",
    "        return 'coherente' \n",
    "    elif valor > 0.25: \n",
    "        return 'subestima'\n",
    "    elif  valor < -0.25:\n",
    "        return 'sobre estima'\n",
    "    else:\n",
    "        print(4, valor)\"\"\"\n",
    "        "
   ]
  },
  {
   "cell_type": "code",
   "execution_count": 96,
   "metadata": {},
   "outputs": [],
   "source": [
    " #creacion de categorias\n",
    "df_coherencia['coherencia_cat'] = df_coherencia['coherencia'].map(categoria_coherencia)"
   ]
  },
  {
   "cell_type": "code",
   "execution_count": 97,
   "metadata": {},
   "outputs": [
    {
     "data": {
      "text/plain": [
       "False"
      ]
     },
     "execution_count": 97,
     "metadata": {},
     "output_type": "execute_result"
    }
   ],
   "source": [
    "df_coherencia['coherencia_cat'].isna().any()"
   ]
  },
  {
   "cell_type": "code",
   "execution_count": 98,
   "metadata": {},
   "outputs": [
    {
     "data": {
      "text/plain": [
       "coherente      1535\n",
       "incoherente    1217\n",
       "Name: coherencia_cat, dtype: int64"
      ]
     },
     "execution_count": 98,
     "metadata": {},
     "output_type": "execute_result"
    }
   ],
   "source": [
    "df_coherencia['coherencia_cat'].value_counts()"
   ]
  },
  {
   "cell_type": "code",
   "execution_count": 99,
   "metadata": {},
   "outputs": [],
   "source": [
    "df_coherencia.drop(columns=['coherencia', 'coherencia_unica','minimental','normal','orientacion', 'conteo','borderline','minimental_norm','escala_memoria','escala_memoria_norm','problemas_memoria_4','problemas_memoria_3','problemas_memoria_2','problemas_memoria_1','minimental_norm','comparacion_memoria_1','comparacion_memoria_2','comparacion_memoria_3','mem_muy_buena','mem_mala','mem_regular','mem_buena','mem_muy_mala'], inplace= True)"
   ]
  },
  {
   "cell_type": "code",
   "execution_count": 100,
   "metadata": {},
   "outputs": [],
   "source": [
    "df_coherencia.to_csv('XGBOOST_CLAS/coherencia_class.csv',index=False, header=True)"
   ]
  },
  {
   "cell_type": "code",
   "execution_count": null,
   "metadata": {},
   "outputs": [],
   "source": []
  }
 ],
 "metadata": {
  "kernelspec": {
   "display_name": "Python 3.9.7 ('base')",
   "language": "python",
   "name": "python3"
  },
  "language_info": {
   "codemirror_mode": {
    "name": "ipython",
    "version": 3
   },
   "file_extension": ".py",
   "mimetype": "text/x-python",
   "name": "python",
   "nbconvert_exporter": "python",
   "pygments_lexer": "ipython3",
   "version": "3.9.7"
  },
  "orig_nbformat": 4,
  "vscode": {
   "interpreter": {
    "hash": "2457de16549bda2ea19f462abbb8ee75322c13e2a4d708fd29b237268ab2c90c"
   }
  }
 },
 "nbformat": 4,
 "nbformat_minor": 2
}
